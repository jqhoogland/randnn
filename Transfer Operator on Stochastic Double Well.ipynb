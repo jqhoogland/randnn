{
 "cells": [
  {
   "cell_type": "code",
   "execution_count": 1,
   "metadata": {},
   "outputs": [],
   "source": [
    "import logging\n",
    "from typing import List, Callable, Optional, Any\n",
    "\n",
    "import numpy as np\n",
    "import matplotlib.pyplot as plt\n",
    "from matplotlib import rc\n",
    "from sklearn.decomposition import PCA \n",
    "from IPython.display import display, Latex\n",
    "\n",
    "from randnn import downsample, downsample_split, avg_over\n",
    "from randnn.utils import np_cache, eigsort\n",
    "from randnn.plotting import *\n",
    "from randnn.systems import DoubleWell\n",
    "from randnn.transfer_operator import *\n",
    "\n",
    "rc('text', usetex=True)\n",
    "logging.basicConfig(level=logging.INFO)"
   ]
  },
  {
   "cell_type": "markdown",
   "metadata": {},
   "source": [
    "# Applying the transfer operator approach\n",
    "\n",
    "### 1. Coarse-graining in space:\n",
    "\n",
    "#### Clustering\n",
    "\n",
    "We run an explicit coarse-graining step by clustering the embedding space.\n",
    "\n",
    "### 2. Coarse-graining in time: \n",
    "\n",
    "#### Downsampling\n",
    "We are interested in the long-term behavior of the system (and have finitely powerful computers), so we downsample the trajectory, discarding many intermediate timesteps.\n",
    "\n",
    "#### Delay embedding\n",
    "To achieve a near-memory-less (Markovian) definition of state, we stack delayed copies of measurements within a short time window.\n",
    "\n",
    "# Parameters"
   ]
  },
  {
   "cell_type": "code",
   "execution_count": 2,
   "metadata": {},
   "outputs": [],
   "source": [
    "# ------------------------\n",
    "# DOUBLE WELL PARAMETERS\n",
    "# ------------------------\n",
    "\n",
    "# Main parameters:\n",
    "BETA = 2.\n",
    "\n",
    "# The following parameters influence temporal resolution and trajectory duration\n",
    "TIMESTEP = 0.1\n",
    "N_STEPS = 100000\n",
    "N_BURNIN_STEPS = 500\n",
    "\n",
    "\n",
    "# ------------------------\n",
    "# COARSE-GRAINING IN SPACE\n",
    "# ------------------------\n",
    "\n",
    "# Explicitly coarse-graining the phase space by clustering (should be << # of downsampled timesteps)\n",
    "N_CLUSTERS = 100 \n",
    "\n",
    "# -----------------------\n",
    "# COARSE-GRAINING IN TIME \n",
    "# ------------------------\n",
    "\n",
    "# Increasing downsampling and transition time have about the same effect: \n",
    "# it increases the length of the time-scales we are interested in\n",
    "DOWNSAMPLE_RATE = 10\n",
    "TRANSITION_TIMESCALE = 20 # This is the number of timesteps to take before counting a transition from one cell to the next\n",
    "\n",
    "# -----------------------\n",
    "# STATE-SPACE RECONSTRUCTION\n",
    "# ------------------------\n",
    "\n",
    "# N delays tells me how many times to stack states into my definition of state.\n",
    "N_DELAYS = 0\n",
    "\n",
    "# Embedding dimension is the downprojected space after doing a delay embedding\n",
    "EMBEDDING_DIM = 3\n",
    "\n",
    "# -----------------------\n",
    "# PLOTTING PARAMETERS\n",
    "# ------------------------\n",
    "\n",
    "EIGENVALUE_RANGE = [1, 10]"
   ]
  },
  {
   "cell_type": "code",
   "execution_count": 3,
   "metadata": {},
   "outputs": [
    {
     "name": "stderr",
     "output_type": "stream",
     "text": [
      "Burning in: 100%|██████████| 500/500 [00:00<00:00, 38434.72it/s]\n",
      "Generating samples: 100%|██████████| 100000/100000 [00:02<00:00, 44203.92it/s]\n",
      "INFO:root:Saving to ./saves/trajectories/trajectory-f710dbdfd39c5d3433acc46f161d51e2.npy\n",
      "/Users/Jesse/.local/share/virtualenvs/randnn-PaBUC3Au/lib/python3.8/site-packages/scipy/sparse/linalg/eigen/arpack/arpack.py:1267: RuntimeWarning: k >= N - 1 for N * N square matrix. Attempting to use scipy.linalg.eig instead.\n",
      "  warnings.warn(\"k >= N - 1 for N * N square matrix. \"\n",
      "/Users/Jesse/.local/share/virtualenvs/randnn-PaBUC3Au/lib/python3.8/site-packages/numpy/core/_asarray.py:83: ComplexWarning: Casting complex values to real discards the imaginary part\n",
      "  return array(a, dtype, copy=False, order=order)\n"
     ]
    },
    {
     "data": {
      "image/png": "[encoded data removed]",
      "text/plain": [
       "<Figure size 432x288 with 1 Axes>"
      ]
     },
     "metadata": {
      "needs_background": "light"
     },
     "output_type": "display_data"
    }
   ],
   "source": [
    "double_well = DoubleWell(beta=BETA, timestep=TIMESTEP)\n",
    "dominant_eigval= double_well.dominant_eigval\n",
    "dominant_timescale = double_well.dominant_timescale * DOWNSAMPLE_RATE\n",
    "\n",
    "@downsample(DOWNSAMPLE_RATE)\n",
    "def get_trajectory(beta=BETA, n_steps=N_STEPS, n_burn_in=N_BURNIN_STEPS, t_ons=100):\n",
    "    double_well = DoubleWell(beta=beta, timestep=TIMESTEP, is_overdamped=True)\n",
    "    return double_well.run(n_steps=n_steps, n_burn_in=n_burn_in)\n",
    "\n",
    "trajectory = get_trajectory()\n",
    "\n",
    "transfer_operator = TransferOperator(labeling_method=\"kmeans\")\n",
    "\n",
    "def get_trans_matrix(time_series=None, n_clusters=100, n_future_timesteps=TRANSITION_TIMESCALE):\n",
    "    return transfer_operator.get_trans_matrix(time_series=time_series, n_clusters=n_clusters, n_future_timesteps=n_future_timesteps)\n",
    "\n",
    "trans_matrix = get_trans_matrix(time_series=trajectory)\n",
    "spectrum, _ = eigsort(trans_matrix.T, 100, which='LR')\n",
    "plot_eig_spectrum(spectrum, EIGENVALUE_RANGE, \"Eigenvalue spectrum of the transfer matrix.\")\n"
   ]
  },
  {
   "cell_type": "markdown",
   "metadata": {},
   "source": [
    "## Implied timescales\n",
    "\n",
    "The eigenvalues of the transfer matrix correspond to unique (implied) timescales. \n",
    "They are related by $t_\\text{imp} = -\\tau / \\log|\\lambda|$, where: \n",
    "- $t_\\text{imp}$ is the implied timescale,\n",
    "- $\\tau$ is the discretization timestep, and\n",
    "- $\\lambda$ is the eigenvalue for which we want the corresponding timescale.\n",
    "   \n",
    "   \n",
    "For now, we're interested in the dominant timescale, i.e. the timescale corresponding to the second largest eigenvalue (as the first corresponds to the stationary distribution with an infinite timescale).\n",
    "\n",
    "To verify everything's working properly, we can compare our result to the actual value, computed analytically (though not exactly). \n",
    "\n",
    "#### Analytic treatment\n",
    "\n",
    "This result we can take from Voigtlaender and Risken (1984). They treat a particle of mass $m$ moving in a potential of the form $f(x) = ax^2+bx^4$ (so $a<0$, $b>0$). This is coupled to a heat bath of temperature $T$, and is subject to a friction of constant $\\gamma$. The energy scale is $\\theta=kT/m$.\n",
    "\n",
    "In the high-barrier limit (the one we're interested in), we derive the following eigenvalue,\n",
    "$$\\lambda(a,b,\\gamma, \\theta)=\\sqrt{-a}\\cdot\\tilde\\lambda\\left(\\frac{\\gamma}{\\sqrt{-a}}, \\frac{\\theta b}{a^2}\\right),$$\n",
    "in terms of a reparametrized eigenvalue:\n",
    "$$\\tilde\\lambda(\\tilde \\gamma, \\tilde \\theta) = \\frac{\\sqrt{2}}{\\pi}\\left(\\sqrt{\\frac{\\tilde\\gamma^2}{4}+1}-\\frac{\\gamma}{2}\\right)\\exp\\left(\\frac{-1}{4\\tilde\\theta}\\right).$$\n",
    "\n",
    "In our case, we have chosen $f(x) = (x^2-1)^2$, i.e. $a=-4$, $b=4$ (the constant doesn't have any physical bearing since it amounts to reshifting the ground energy). Our particle has mass $m=1$ (i.e. we have already reabsorbed this into the temperature. I believe $\\gamma=1$, i.e. we focus only on changing the temperature (equivalently $\\theta$). \n",
    "\n",
    "Then, the expression above reduces:\n",
    "$$\n",
    "\\begin{align}\n",
    "\\lambda(-4, 4, 1, \\theta)\n",
    "&=\\sqrt{4}\\cdot\\tilde\\lambda\\left(\\frac{1}{2}, \\frac{\\theta}{4}\\right)\\\\\n",
    "&=\\frac{\\sqrt{17}-1}{\\pi\\sqrt{2}} \\exp(-1/\\theta).\n",
    "\\end{align}\n",
    "$$\n",
    "\n"
   ]
  },
  {
   "cell_type": "code",
   "execution_count": 5,
   "metadata": {},
   "outputs": [
    {
     "data": {
      "text/latex": [
       "For $\\beta = 2.0$, $\\lambda=0.09513336054630002$, and $r=\\lambda/2=0.04756668027315001$"
      ],
      "text/plain": [
       "<IPython.core.display.Latex object>"
      ]
     },
     "metadata": {},
     "output_type": "display_data"
    },
    {
     "data": {
      "text/latex": [
       "With a discretization timestep of $\\tau=0.1$, and a downsampling rate of $R=10$, we get $\\tau=-0.42508411562923554$"
      ],
      "text/plain": [
       "<IPython.core.display.Latex object>"
      ]
     },
     "metadata": {},
     "output_type": "display_data"
    },
    {
     "data": {
      "text/latex": [
       "Time until half: $\\ln 0.5/ \\ln \\lambda = 10.511559712150762$"
      ],
      "text/plain": [
       "<IPython.core.display.Latex object>"
      ]
     },
     "metadata": {},
     "output_type": "display_data"
    }
   ],
   "source": [
    "display(Latex(\"For $\\\\beta = {}$, $\\lambda={}$, and $r=\\lambda/2={}$\".format(BETA, dominant_eigval, dominant_eigval/2)))\n",
    "display(Latex(\"With a discretization timestep of $\\\\tau={}$, and a downsampling rate of $R={}$, we get $\\\\tau={}$\"\n",
    "              .format(TIMESTEP, DOWNSAMPLE_RATE, dominant_timescale)))\n",
    "\n",
    "display(Latex(\"Time until half: $\\ln 0.5/ \\ln \\lambda = {}$\".format(1./(dominant_eigval))))"
   ]
  },
  {
   "cell_type": "code",
   "execution_count": null,
   "metadata": {},
   "outputs": [],
   "source": [
    "N_CLUSTERS_LIST = [10, 100, 500]\n",
    "TRANSITION_TIMES = range(1, 20, 4)\n",
    "\n",
    "plot_t_imp_scaling(trajectory, \n",
    "                   1, \n",
    "                   n_clusters_list=N_CLUSTERS_LIST, \n",
    "                   transition_times=TRANSITION_TIMES,\n",
    "                   timestep=TIMESTEP/DOWNSAMPLE_RATE)"
   ]
  },
  {
   "cell_type": "code",
   "execution_count": null,
   "metadata": {},
   "outputs": [],
   "source": [
    "def plot_t_imps(time_series, eigval_idxs=range(1,3), n_clusters=N_CLUSTERS, transition_timescales=range(1, 10, 2), timestep=1):\n",
    "    plt.title(\"Scaling of $t$ with $\\\\tau$ and $n_p$\")\n",
    "    t_imps = np.zeros((len(transition_timescales), len(eigval_idxs)))\n",
    "\n",
    "    for i, tau in tqdm(enumerate(transition_timescales), desc=\"computing t_imp\"):\n",
    "        t_imps[i, :] = transfer_operator.get_t_imp(time_series, eigval_idxs, n_clusters, tau, timestep)\n",
    "    \n",
    "    for i in eigval_idxs:\n",
    "        plt.plot(transition_timescales, t_imps[:, i])\n",
    "\n",
    "    plt.show()\n",
    "    \n",
    "plot_t_imps(trajectory)"
   ]
  },
  {
   "cell_type": "code",
   "execution_count": null,
   "metadata": {},
   "outputs": [],
   "source": []
  },
  {
   "cell_type": "code",
   "execution_count": null,
   "metadata": {},
   "outputs": [],
   "source": []
  }
 ],
 "metadata": {
  "kernelspec": {
   "display_name": "Python 3",
   "language": "python",
   "name": "python3"
  },
  "language_info": {
   "codemirror_mode": {
    "name": "ipython",
    "version": 3
   },
   "file_extension": ".py",
   "mimetype": "text/x-python",
   "name": "python",
   "nbconvert_exporter": "python",
   "pygments_lexer": "ipython3",
   "version": "3.8.6"
  }
 },
 "nbformat": 4,
 "nbformat_minor": 2
}
