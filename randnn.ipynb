{
 "cells": [
  {
   "cell_type": "code",
   "execution_count": 1,
   "metadata": {},
   "outputs": [],
   "source": [
    "from randnn import ContinuousNN"
   ]
  },
  {
   "cell_type": "code",
   "execution_count": 8,
   "metadata": {},
   "outputs": [],
   "source": [
    "cont_nn = ContinuousNN(coupling_strength=10., n_dofs=100)"
   ]
  },
  {
   "cell_type": "code",
   "execution_count": 9,
   "metadata": {},
   "outputs": [
    {
     "name": "stderr",
     "output_type": "stream",
     "text": [
      "Burning in: 100%|██████████| 500/500 [00:00<00:00, 6551.72it/s]\n",
      "Generating samples: 100%|██████████| 10000/10000 [00:01<00:00, 6968.55it/s]\n"
     ]
    },
    {
     "data": {
      "text/plain": [
       "array([[-3.95439093,  2.93002068, -7.47680724, ..., -6.55139463,\n",
       "        -3.23591148,  8.072912  ],\n",
       "       [-3.89432635,  2.90916175, -7.50942993, ..., -6.4529417 ,\n",
       "        -3.26033478,  8.05615507],\n",
       "       [-3.83372641,  2.88843579, -7.54145864, ..., -6.35349142,\n",
       "        -3.28481014,  8.03908075],\n",
       "       ...,\n",
       "       [ 5.41315917,  1.3837693 , -2.1795352 , ...,  8.68579559,\n",
       "         6.09598148,  8.66523482],\n",
       "       [ 5.36124997,  1.36578976, -2.20529746, ...,  8.65028512,\n",
       "         6.10353371,  8.71534353],\n",
       "       [ 5.30858861,  1.34838065, -2.23231926, ...,  8.61323455,\n",
       "         6.11064692,  8.76411745]])"
      ]
     },
     "execution_count": 9,
     "metadata": {},
     "output_type": "execute_result"
    }
   ],
   "source": [
    "trajectory = cont_nn.run()"
   ]
  },
  {
   "cell_type": "code",
   "execution_count": 10,
   "metadata": {},
   "outputs": [
    {
     "name": "stdout",
     "output_type": "stream",
     "text": [
      "[[ 0.         -0.08516191 -1.39082429 ...  0.67978639 -0.05300644\n",
      "  -1.2788041 ]\n",
      " [-1.19279346  0.          0.51686644 ... -0.59754857  0.71925859\n",
      "  -0.34594672]\n",
      " [-0.72437107 -1.30032338  0.         ...  0.33013209 -0.11268821\n",
      "  -1.96433565]\n",
      " ...\n",
      " [ 0.02090482  0.8157166   0.82689575 ...  0.         -1.35557841\n",
      "   0.82970957]\n",
      " [ 0.17196197 -0.21570214 -0.57090134 ... -0.14874991  0.\n",
      "  -0.62851827]\n",
      " [ 0.97100408  1.58707544  0.34938955 ... -1.19599349  0.60962315\n",
      "   0.        ]]\n"
     ]
    }
   ],
   "source": [
    "print(cont_nn.coupling_matrix)\n"
   ]
  },
  {
   "cell_type": "code",
   "execution_count": null,
   "metadata": {},
   "outputs": [],
   "source": []
  }
 ],
 "metadata": {
  "kernelspec": {
   "display_name": "Python 3",
   "language": "python",
   "name": "python3"
  },
  "language_info": {
   "codemirror_mode": {
    "name": "ipython",
    "version": 3
   },
   "file_extension": ".py",
   "mimetype": "text/x-python",
   "name": "python",
   "nbconvert_exporter": "python",
   "pygments_lexer": "ipython3",
   "version": "3.8.1"
  }
 },
 "nbformat": 4,
 "nbformat_minor": 2
}
