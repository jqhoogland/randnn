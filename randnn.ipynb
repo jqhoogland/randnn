{
 "cells": [
  {
   "cell_type": "code",
   "execution_count": 1,
   "metadata": {},
   "outputs": [],
   "source": [
    "import logging\n",
    "\n",
    "import numpy as np\n",
    "import matplotlib.pyplot as plt\n",
    "from matplotlib import rc\n",
    "\n",
    "rc('text', usetex=True)\n",
    "\n",
    "from randnn import ContinuousNN, get_attractor_dimension\n",
    "from randnn.plotting import *"
   ]
  },
  {
   "cell_type": "code",
   "execution_count": 2,
   "metadata": {},
   "outputs": [],
   "source": [
    "\n",
    "COUPLING_STRENGTH = .9\n",
    "N_NEURONS = 1000"
   ]
  },
  {
   "cell_type": "code",
   "execution_count": 3,
   "metadata": {},
   "outputs": [],
   "source": [
    "cont_nn = ContinuousNN(coupling_strength=COUPLING_STRENGTH, n_dofs=N_NEURONS, max_step=0.1)"
   ]
  },
  {
   "cell_type": "code",
   "execution_count": 4,
   "metadata": {},
   "outputs": [
    {
     "name": "stderr",
     "output_type": "stream",
     "text": [
      "/Users/Jesse/Projects/masters-thesis/code/randnn/randnn/plotting.py:64: UserWarning: Setting the 'color' property will override the edgecolor or facecolor properties.\n",
      "  circle = patches.Circle((0, 0),\n"
     ]
    },
    {
     "data": {
      "image/png": "[encoded data removed]",
      "text/plain": [
       "<Figure size 432x288 with 1 Axes>"
      ]
     },
     "metadata": {
      "needs_background": "light"
     },
     "output_type": "display_data"
    }
   ],
   "source": [
    "# Plot the eigenvalue spectrum and make sure it respects Girko's circular law\n",
    "plot_random_matrix_spectrum(cont_nn.coupling_matrix, COUPLING_STRENGTH)"
   ]
  },
  {
   "cell_type": "code",
   "execution_count": null,
   "metadata": {},
   "outputs": [
    {
     "name": "stderr",
     "output_type": "stream",
     "text": [
      "Burning in: 100%|██████████| 200/200 [00:00<00:00, 857.31it/s]\n",
      "Generating samples:  59%|█████▉    | 590/1000 [00:00<00:00, 946.46it/s] "
     ]
    }
   ],
   "source": [
    "trajectory = cont_nn.run_or_load(n_steps=1000, n_burn_in=200)\n",
    "cont_nn.save(trajectory)"
   ]
  },
  {
   "cell_type": "code",
   "execution_count": null,
   "metadata": {},
   "outputs": [],
   "source": [
    "plot_trajectory_samples(trajectory, 5)"
   ]
  },
  {
   "cell_type": "code",
   "execution_count": null,
   "metadata": {},
   "outputs": [],
   "source": [
    "#logging.basicConfig(level=logging.INFO)\n",
    "lyapunov_spectrum = cont_nn.get_lyapunov_spectrum(trajectory)"
   ]
  },
  {
   "cell_type": "code",
   "execution_count": null,
   "metadata": {},
   "outputs": [],
   "source": [
    "plot_lyapunov_spectrum(lyapunov_spectrum, title=\"Lyapunov spectrum of a random NN with $g={}$, $N={}$.\".format(COUPLING_STRENGTH, N_NEURONS))"
   ]
  },
  {
   "cell_type": "code",
   "execution_count": null,
   "metadata": {},
   "outputs": [],
   "source": [
    "def get_attractor_dimension(lyapunov_spectrum: np.ndarray) -> float:\n",
    "    \"\"\"\n",
    "    The attractor dimensionality is given by the interpolated number of Lyapunov exopnents that sum to $0$\n",
    "\n",
    "    This assumes that lyapunov_spectrum is already in decreasing order.\n",
    "    \"\"\"\n",
    "    k = 0\n",
    "    _sum = 0\n",
    "\n",
    "    while _sum >= 0 and k < lyapunov_spectrum.size -1:\n",
    "        _sum += lyapunov_spectrum[k]\n",
    "        k += 1\n",
    "\n",
    "    _sum -= lyapunov_spectrum[k - 1]\n",
    "\n",
    "    return k + _sum / np.abs(lyapunov_spectrum[k])  # Python counts from 0!\n",
    "\n",
    "print(\"Attractor dimension: {}\".format(get_attractor_dimension(lyapunov_spectrum)))"
   ]
  },
  {
   "cell_type": "code",
   "execution_count": null,
   "metadata": {},
   "outputs": [],
   "source": [
    "def scaling_analysis():\n",
    "    scaling_vars = [10,100,1000]\n",
    "    analysis_fns = [plot_lyapunov_spectrum, get_attractor_dimension]\n",
    "    \n",
    "    results = []\n",
    "    for scaling_var in scaling_vars:\n",
    "        _results = []\n",
    "        system = ContinuousNN(coupling_strength=COUPLING_STRENGTH, n_dofs=scaling_var, max_step=0.001)\n",
    "        #system = ContinuousNN(coupling_strength=scaling_var, n_dofs=N_NEURONS, max_step=0.001))\n",
    "        trajectory = system.run_or_load(n_steps=10000, n_burn_in=200)\n",
    "        spectrum = system.get_lyapunov_spectrum(trajectory)\n",
    "\n",
    "        for fn in analysis_fns:\n",
    "            _results.push(fn(trajectory))\n",
    "\n",
    "        results.push((scaling_var, _results))\n",
    "\n",
    "    return results"
   ]
  },
  {
   "cell_type": "code",
   "execution_count": null,
   "metadata": {},
   "outputs": [],
   "source": [
    "q, r= np.linalg.qr(np.random.uniform(size=(5,5)))\n",
    "\n",
    "r"
   ]
  },
  {
   "cell_type": "code",
   "execution_count": null,
   "metadata": {},
   "outputs": [],
   "source": []
  },
  {
   "cell_type": "code",
   "execution_count": null,
   "metadata": {},
   "outputs": [],
   "source": []
  },
  {
   "cell_type": "code",
   "execution_count": null,
   "metadata": {},
   "outputs": [],
   "source": []
  }
 ],
 "metadata": {
  "kernelspec": {
   "display_name": "Python 3",
   "language": "python",
   "name": "python3"
  },
  "language_info": {
   "codemirror_mode": {
    "name": "ipython",
    "version": 3
   },
   "file_extension": ".py",
   "mimetype": "text/x-python",
   "name": "python",
   "nbconvert_exporter": "python",
   "pygments_lexer": "ipython3",
   "version": "3.8.1"
  }
 },
 "nbformat": 4,
 "nbformat_minor": 2
}
