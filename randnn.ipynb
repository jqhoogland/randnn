{
 "cells": [
  {
   "cell_type": "code",
   "execution_count": 1,
   "metadata": {},
   "outputs": [],
   "source": [
    "import numpy as np\n",
    "import matplotlib.pyplot as plt\n",
    "\n",
    "from randnn import ContinuousNN, get_lyapunov_spectrum\n",
    "from randnn.plotting import plot_trajectory_avg"
   ]
  },
  {
   "cell_type": "code",
   "execution_count": 2,
   "metadata": {},
   "outputs": [],
   "source": [
    "cont_nn = ContinuousNN(coupling_strength=1.1, n_dofs=1000)"
   ]
  },
  {
   "cell_type": "code",
   "execution_count": 3,
   "metadata": {},
   "outputs": [],
   "source": [
    "trajectory, jacobians = cont_nn.run_or_load(n_steps=1000, return_jacobians=True)\n",
    "cont_nn.save(trajectory, jacobians)"
   ]
  },
  {
   "cell_type": "code",
   "execution_count": 4,
   "metadata": {},
   "outputs": [
    {
     "data": {
      "image/png": "[encoded data removed]",
      "text/plain": [
       "<Figure size 432x288 with 1 Axes>"
      ]
     },
     "metadata": {
      "needs_background": "light"
     },
     "output_type": "display_data"
    },
    {
     "name": "stdout",
     "output_type": "stream",
     "text": [
      "[[ 0.         -0.02347734 -0.00887362 ...  0.00420112 -0.04849815\n",
      "   0.01216934]\n",
      " [ 0.08261809  0.         -0.02010004 ...  0.00778874 -0.02753083\n",
      "  -0.04018211]\n",
      " [ 0.03425262  0.00604061  0.         ...  0.0500203   0.00410315\n",
      "  -0.01376484]\n",
      " ...\n",
      " [-0.01865508 -0.03376751  0.02946267 ...  0.          0.0443649\n",
      "   0.00291464]\n",
      " [ 0.05889694 -0.05994859  0.02783176 ...  0.00099141  0.\n",
      "   0.00223939]\n",
      " [ 0.00722788 -0.03115663 -0.036417   ...  0.01969296  0.03656311\n",
      "   0.        ]]\n",
      "(1000, 1000, 1000)\n"
     ]
    }
   ],
   "source": [
    "plot_trajectory_avg(trajectory)\n",
    "print(cont_nn.coupling_matrix)\n",
    "print(jacobians.shape)"
   ]
  },
  {
   "cell_type": "code",
   "execution_count": null,
   "metadata": {},
   "outputs": [
    {
     "name": "stderr",
     "output_type": "stream",
     "text": [
      "Computing linear evolution: 975it [00:35, 13.61it/s]/Users/Jesse/Projects/masters-thesis/code/randnn/randnn/lyapunov.py:33: RuntimeWarning: overflow encountered in matmul\n",
      "  evolution[t + 1, :, :] = jacobian @ evolution[t]\n",
      "/Users/Jesse/Projects/masters-thesis/code/randnn/randnn/lyapunov.py:33: RuntimeWarning: invalid value encountered in matmul\n",
      "  evolution[t + 1, :, :] = jacobian @ evolution[t]\n",
      "Computing linear evolution: 1000it [00:38, 25.90it/s]\n",
      "Decomposing evolution: 486it [01:15,  6.11it/s]"
     ]
    }
   ],
   "source": [
    "lyapunov_spectrum = get_lyapunov_spectrum(jacobians)"
   ]
  },
  {
   "cell_type": "code",
   "execution_count": null,
   "metadata": {},
   "outputs": [],
   "source": [
    "print(lyapunov_spectrum)\n",
    "plt.plot(lyapunov_spectrum)\n",
    "plt.show()"
   ]
  },
  {
   "cell_type": "code",
   "execution_count": null,
   "metadata": {},
   "outputs": [],
   "source": []
  }
 ],
 "metadata": {
  "kernelspec": {
   "display_name": "Python 3",
   "language": "python",
   "name": "python3"
  },
  "language_info": {
   "codemirror_mode": {
    "name": "ipython",
    "version": 3
   },
   "file_extension": ".py",
   "mimetype": "text/x-python",
   "name": "python",
   "nbconvert_exporter": "python",
   "pygments_lexer": "ipython3",
   "version": "3.8.1"
  }
 },
 "nbformat": 4,
 "nbformat_minor": 2
}
