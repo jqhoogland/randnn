{
 "cells": [
  {
   "cell_type": "code",
   "execution_count": 11,
   "metadata": {},
   "outputs": [],
   "source": [
    "import logging, sys\n",
    "from typing import List, Callable, Optional, Any\n",
    "\n",
    "import numpy as np\n",
    "import matplotlib.pyplot as plt\n",
    "from matplotlib import rc\n",
    "from sklearn.decomposition import PCA \n",
    "from IPython.display import display, Latex\n",
    "\n",
    "from randnn import downsample, downsample_split, avg_over\n",
    "from randnn.utils import np_cache, eigsort\n",
    "from randnn.plotting import *\n",
    "from randnn.systems import DoubleWell\n",
    "from randnn.transfer_operator import *\n",
    "\n",
    "rc('text', usetex=True)\n",
    "logging.basicConfig(level=logging.INFO)\n",
    "np.set_printoptions(threshold=100)"
   ]
  },
  {
   "cell_type": "markdown",
   "metadata": {},
   "source": [
    "# Applying the transfer operator approach\n",
    "\n",
    "### 1. Coarse-graining in space:\n",
    "\n",
    "#### Clustering\n",
    "\n",
    "We run an explicit coarse-graining step by clustering the embedding space.\n",
    "\n",
    "### 2. Coarse-graining in time: \n",
    "\n",
    "#### Downsampling\n",
    "We are interested in the long-term behavior of the system (and have finitely powerful computers), so we downsample the trajectory, discarding many intermediate timesteps.\n",
    "\n",
    "#### Delay embedding\n",
    "To achieve a near-memory-less (Markovian) definition of state, we stack delayed copies of measurements within a short time window.\n",
    "\n",
    "# Parameters"
   ]
  },
  {
   "cell_type": "code",
   "execution_count": 12,
   "metadata": {},
   "outputs": [],
   "source": [
    "# ------------------------\n",
    "# DOUBLE WELL PARAMETERS\n",
    "# ------------------------\n",
    "\n",
    "# Main parameters:\n",
    "BETA = 1. # 2.\n",
    "IS_OVERDAMPED = True\n",
    "\n",
    "# The following parameters influence temporal resolution and trajectory duration\n",
    "TIMESTEP = 0.01 # 0.01 \n",
    "DOWNSAMPLE_RATE = 10 # 10\n",
    "\n",
    "TIMESPAN = 100000 # 100000\n",
    "N_STEPS = int(TIMESPAN // TIMESTEP)\n",
    "N_BURNIN_STEPS = 1000 \n",
    "\n",
    "N_CLUSTERS = 200 #1225\n",
    "TRANSITION_TIMESCALE = 1 # This is the number of timesteps to take before counting a transition from one cell to the next\n",
    "# -----------------------\n",
    "# PLOTTING PARAMETERS\n",
    "# ------------------------\n",
    "\n",
    "EIGENVALUE_RANGE = [1, 10]"
   ]
  },
  {
   "cell_type": "markdown",
   "metadata": {},
   "source": [
    "# Generating data — Overdamped"
   ]
  },
  {
   "cell_type": "code",
   "execution_count": 13,
   "metadata": {},
   "outputs": [
    {
     "name": "stderr",
     "output_type": "stream",
     "text": [
      "INFO:root:Loading from save ./saves/trajectories/trajectory-5914cf1912fc76edb06ec6f5e932cd2a.npy\n"
     ]
    }
   ],
   "source": [
    "dw_overdamped = DoubleWell(beta=BETA, timestep=TIMESTEP, is_overdamped=True)\n",
    "ts_overdamped = dw_overdamped.run(n_steps=N_STEPS, n_burn_in=N_BURNIN_STEPS)[::DOWNSAMPLE_RATE]"
   ]
  },
  {
   "cell_type": "markdown",
   "metadata": {},
   "source": [
    "## Equilibrium\n",
    "\n",
    "Let's establish that we've actually settled into equilibrium. \n",
    "\n",
    "### Boltzmann distribution\n",
    "\n",
    "The first check is that the Boltzmann distributions appear qualitatively similar. If this is off, we already know we need to go back to the drawing board.\n"
   ]
  },
  {
   "cell_type": "code",
   "execution_count": 14,
   "metadata": {},
   "outputs": [
    {
     "data": {
      "image/png": "[encoded data removed]",
      "text/plain": [
       "<Figure size 432x288 with 1 Axes>"
      ]
     },
     "metadata": {
      "needs_background": "light"
     },
     "output_type": "display_data"
    },
    {
     "data": {
      "image/png": "[encoded data removed]",
      "text/plain": [
       "<Figure size 432x288 with 1 Axes>"
      ]
     },
     "metadata": {
      "needs_background": "light"
     },
     "output_type": "display_data"
    }
   ],
   "source": [
    "dX = 0.01\n",
    "positions = np.array([np.arange(-2, 2, dX)]).T\n",
    "\n",
    "# We compare the observed Boltzmann distribution...\n",
    "\n",
    "plt.hist(ts_overdamped, density=True, bins=N_CLUSTERS)\n",
    "plt.ylabel(\"P(x)\")\n",
    "plt.xlabel(\"x\")\n",
    "\n",
    "plt.title(\"Distribution of positions in the generated trajectory\")\n",
    "plt.show()\n",
    "\n",
    "# ...against the theoretical distribution\n",
    "\n",
    "weights = dw_overdamped.boltzmann_weights(positions)\n",
    "plt.hist(positions, weights=weights, bins=N_CLUSTERS)\n",
    "plt.ylabel(\"P(x)\")\n",
    "plt.xlabel(\"x\")\n",
    "\n",
    "plt.title(\"True Boltzmann distribution.\")\n",
    "plt.show()"
   ]
  },
  {
   "cell_type": "markdown",
   "metadata": {},
   "source": [
    "### Energy distribution\n",
    "\n",
    "For a more quantitative check, we can compare the observed energy distribution to the theoretical distribution and confirm that the equipartition theorem holds (i.e. that each dof has, on average, an energy $kT/2$). "
   ]
  },
  {
   "cell_type": "code",
   "execution_count": 15,
   "metadata": {},
   "outputs": [
    {
     "data": {
      "image/png": "[encoded data removed]",
      "text/plain": [
       "<Figure size 432x288 with 1 Axes>"
      ]
     },
     "metadata": {
      "needs_background": "light"
     },
     "output_type": "display_data"
    },
    {
     "data": {
      "image/png": "[encoded data removed]",
      "text/plain": [
       "<Figure size 432x288 with 1 Axes>"
      ]
     },
     "metadata": {
      "needs_background": "light"
     },
     "output_type": "display_data"
    },
    {
     "name": "stdout",
     "output_type": "stream",
     "text": [
      "The average energy of the particle is 0.4324010239135469\n",
      "The theoretical energy is (as given by the equipartition theorem):\n"
     ]
    },
    {
     "data": {
      "text/latex": [
       "$kT/2 = 0.5$"
      ],
      "text/plain": [
       "<IPython.core.display.Latex object>"
      ]
     },
     "metadata": {},
     "output_type": "display_data"
    }
   ],
   "source": [
    "# We compare the observed energy distribution...\n",
    "energies = dw_overdamped.energy(ts_overdamped)\n",
    "plt.title(\"Observed energy distribution\")\n",
    "plt.hist(energies, density=True, bins=N_CLUSTERS)\n",
    "plt.ylabel(\"P(E)\")\n",
    "plt.xlabel(\"E\")\n",
    "plt.show()\n",
    "\n",
    "# ... against the theoretical distribution.\n",
    "\n",
    "theoretical_energies = dw_overdamped.energy(positions) \n",
    "plt.title(\"Theoretical energy distribution\")\n",
    "plt.hist(theoretical_energies, density=True, bins=N_CLUSTERS, weights=weights)\n",
    "plt.ylabel(\"P(E)\")\n",
    "plt.xlabel(\"E\")\n",
    "plt.show()\n",
    "\n",
    "# And compare the average energy.\n",
    "print(f\"The average energy of the particle is {np.mean(energies)}\")\n",
    "print(\"The theoretical energy is (as given by the equipartition theorem):\")\n",
    "display(Latex(f\"$kT/2 = {1./(2* BETA)}$\"))"
   ]
  },
  {
   "cell_type": "markdown",
   "metadata": {},
   "source": [
    "### Convergence\n",
    "\n",
    "We make sure we've included enough burn in samples and that the running average energy isn't fluctuating too wildly."
   ]
  },
  {
   "cell_type": "code",
   "execution_count": 16,
   "metadata": {},
   "outputs": [
    {
     "data": {
      "text/plain": [
       "'\\nrunning_avg_energy = dw_overdamped.running_avg(\\n    ts_overdamped, \\n    dw_overdamped.energy,\\n    window_size=10000,\\n    step_size=1000,\\n    verbose=True\\n)\\n\\nplt.plot(running_avg_energy)\\n'"
      ]
     },
     "execution_count": 16,
     "metadata": {},
     "output_type": "execute_result"
    }
   ],
   "source": [
    "\"\"\"\n",
    "running_avg_energy = dw_overdamped.running_avg(\n",
    "    ts_overdamped, \n",
    "    dw_overdamped.energy,\n",
    "    window_size=10000,\n",
    "    step_size=1000,\n",
    "    verbose=True\n",
    ")\n",
    "\n",
    "plt.plot(running_avg_energy)\n",
    "\"\"\""
   ]
  },
  {
   "cell_type": "markdown",
   "metadata": {},
   "source": [
    "# Testing Transfer matrix – Overdamped case"
   ]
  },
  {
   "cell_type": "code",
   "execution_count": 17,
   "metadata": {},
   "outputs": [
    {
     "data": {
      "application/vnd.jupyter.widget-view+json": {
       "model_id": "773f0244a2104ad9bb633e95bae0fbb6",
       "version_major": 2,
       "version_minor": 0
      },
      "text/plain": [
       "HBox(children=(HTML(value='Creating the transfer matrix'), FloatProgress(value=0.0, max=999998.0), HTML(value=…"
      ]
     },
     "metadata": {},
     "output_type": "display_data"
    },
    {
     "name": "stdout",
     "output_type": "stream",
     "text": [
      "\n"
     ]
    }
   ],
   "source": [
    "to_overdamped = TransferOperator(labeling_method=\"uniform\", n_clusters=100)\n",
    "to_overdamped.fit(verbose=True, time_series=ts_overdamped, n_future_timesteps=TRANSITION_TIMESCALE, k=50)\n",
    "tm_overdamped = to_overdamped.forward_matrix"
   ]
  },
  {
   "cell_type": "markdown",
   "metadata": {},
   "source": [
    "## Equilibrium\n",
    "\n",
    "Let's establish that we've actually settled into equilibrium. \n",
    "\n",
    "### Boltzmann distribution\n",
    "\n",
    "The first check is that the Boltzmann distributions appear qualitatively similar. If this is off, we already know we need to go back to the drawing board.\n"
   ]
  },
  {
   "cell_type": "code",
   "execution_count": 18,
   "metadata": {},
   "outputs": [
    {
     "data": {
      "image/png": "[encoded data removed]",
      "text/plain": [
       "<Figure size 432x288 with 1 Axes>"
      ]
     },
     "metadata": {
      "needs_background": "light"
     },
     "output_type": "display_data"
    },
    {
     "data": {
      "image/png": "[encoded data removed]",
      "text/plain": [
       "<Figure size 432x288 with 1 Axes>"
      ]
     },
     "metadata": {
      "needs_background": "light"
     },
     "output_type": "display_data"
    }
   ],
   "source": [
    "cluster_centers = to_overdamped.cluster_centers\n",
    "eigvals, eigvecs = eigsort(to_overdamped.reverse_matrix.T, eig_method=\"np\")\n",
    "\n",
    "dX = 0.01\n",
    "positions = np.array([np.arange(-2, 2, dX)]).T\n",
    "\n",
    "\n",
    "# We compare the observed energy distribution...\n",
    "\n",
    "stable_dist = np.abs(eigvecs[:,0])\n",
    "min_x = np.amin(ts_overdamped, axis=0)\n",
    "max_x = np.amax(ts_overdamped, axis=0)\n",
    "step = (max_x-min_x) / stable_dist.size\n",
    "\n",
    "plt.hist(cluster_centers, weights=stable_dist, bins=N_CLUSTERS)\n",
    "plt.ylabel(\"P(x)\")\n",
    "plt.xlabel(\"x\")\n",
    "plt.title(\"Stationary distribution of the (transpose) transfer matrix.\")\n",
    "plt.show()\n",
    "\n",
    "# ...against the theoretical distribution\n",
    "\n",
    "weights = dw_overdamped.boltzmann_weights(positions)\n",
    "plt.hist(positions, weights=weights, bins=N_CLUSTERS)\n",
    "plt.ylabel(\"P(x)\")\n",
    "plt.xlabel(\"x\")\n",
    "\n",
    "plt.title(\"True Boltzmann distribution.\")\n",
    "plt.show()"
   ]
  },
  {
   "cell_type": "markdown",
   "metadata": {},
   "source": [
    "### Energy distribution\n",
    "\n",
    "For a more quantitative check, we can compare the observed energy distribution to the theoretical distribution and confirm that the equipartition theorem holds (i.e. that each dof has, on average, an energy $kT/2$). "
   ]
  },
  {
   "cell_type": "code",
   "execution_count": 19,
   "metadata": {},
   "outputs": [
    {
     "data": {
      "image/png": "[encoded data removed]",
      "text/plain": [
       "<Figure size 432x288 with 1 Axes>"
      ]
     },
     "metadata": {
      "needs_background": "light"
     },
     "output_type": "display_data"
    },
    {
     "data": {
      "image/png": "[encoded data removed]",
      "text/plain": [
       "<Figure size 432x288 with 1 Axes>"
      ]
     },
     "metadata": {
      "needs_background": "light"
     },
     "output_type": "display_data"
    },
    {
     "name": "stdout",
     "output_type": "stream",
     "text": [
      "The average energy of the particle is 0.4324010239135469\n",
      "The theoretical energy is (as given by the equipartition theorem):\n"
     ]
    },
    {
     "data": {
      "text/latex": [
       "$kT/2 = 0.5$"
      ],
      "text/plain": [
       "<IPython.core.display.Latex object>"
      ]
     },
     "metadata": {},
     "output_type": "display_data"
    }
   ],
   "source": [
    "# We compare the observed energy distribution...\n",
    "energies = dw_overdamped.energy(ts_overdamped)\n",
    "plt.title(\"Observed energy distribution\")\n",
    "plt.hist(energies, density=True, bins=N_CLUSTERS)\n",
    "plt.ylabel(\"P(E)\")\n",
    "plt.xlabel(\"E\")\n",
    "plt.show()\n",
    "\n",
    "# ... against the theoretical distribution.\n",
    "\n",
    "theoretical_energies = dw_overdamped.energy(positions) \n",
    "plt.title(\"Theoretical energy distribution\")\n",
    "plt.hist(theoretical_energies, density=True, bins=N_CLUSTERS, weights=weights)\n",
    "plt.ylabel(\"P(E)\")\n",
    "plt.xlabel(\"E\")\n",
    "plt.show()\n",
    "\n",
    "# And compare the average energy.\n",
    "print(f\"The average energy of the particle is {np.mean(energies)}\")\n",
    "print(\"The theoretical energy is (as given by the equipartition theorem):\")\n",
    "display(Latex(f\"$kT/2 = {1./(2* BETA)}$\"))"
   ]
  },
  {
   "cell_type": "code",
   "execution_count": 20,
   "metadata": {},
   "outputs": [
    {
     "name": "stderr",
     "output_type": "stream",
     "text": [
      "/Users/Jesse/.local/share/virtualenvs/randnn-PaBUC3Au/lib/python3.8/site-packages/numpy/core/_asarray.py:83: ComplexWarning: Casting complex values to real discards the imaginary part\n",
      "  return array(a, dtype, copy=False, order=order)\n"
     ]
    },
    {
     "data": {
      "image/png": "[encoded data removed]",
      "text/plain": [
       "<Figure size 432x288 with 1 Axes>"
      ]
     },
     "metadata": {
      "needs_background": "light"
     },
     "output_type": "display_data"
    }
   ],
   "source": [
    "plot_eig_spectrum(eigvals, EIGENVALUE_RANGE, \"Eigenvalue spectrum of the transfer matrix.\")"
   ]
  },
  {
   "cell_type": "markdown",
   "metadata": {},
   "source": [
    "### Detailed balance\n",
    "\n",
    "Finally, we require that detailed balance holds, i.e.: \n",
    "$$\\pi_i P_{ij} = \\pi_j P_{ji},$$ \n",
    "where $P$ is the transition matrix and $\\pi$ is the stationary distribution."
   ]
  }
 ],
 "metadata": {
  "kernelspec": {
   "display_name": "Python 3",
   "language": "python",
   "name": "python3"
  },
  "language_info": {
   "codemirror_mode": {
    "name": "ipython",
    "version": 3
   },
   "file_extension": ".py",
   "mimetype": "text/x-python",
   "name": "python",
   "nbconvert_exporter": "python",
   "pygments_lexer": "ipython3",
   "version": "3.8.6"
  }
 },
 "nbformat": 4,
 "nbformat_minor": 2
}
