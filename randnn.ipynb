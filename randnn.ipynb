{
 "cells": [
  {
   "cell_type": "code",
   "execution_count": 1,
   "metadata": {},
   "outputs": [],
   "source": [
    "import numpy as np\n",
    "\n",
    "from randnn import ContinuousNN"
   ]
  },
  {
   "cell_type": "code",
   "execution_count": 2,
   "metadata": {},
   "outputs": [],
   "source": [
    "cont_nn = ContinuousNN(coupling_strength=10., n_dofs=100)"
   ]
  },
  {
   "cell_type": "code",
   "execution_count": 3,
   "metadata": {},
   "outputs": [
    {
     "name": "stderr",
     "output_type": "stream",
     "text": [
      "Burning in: 100%|██████████| 500/500 [00:00<00:00, 5944.38it/s]\n",
      "Generating samples: 100%|██████████| 10000/10000 [00:02<00:00, 4055.95it/s]\n"
     ]
    }
   ],
   "source": [
    "trajectory, jacobians = cont_nn.run(return_jacobians=True)"
   ]
  },
  {
   "cell_type": "code",
   "execution_count": 4,
   "metadata": {},
   "outputs": [
    {
     "name": "stdout",
     "output_type": "stream",
     "text": [
      "[[ 0.          1.83822425 -0.58141967 ... -0.0865285  -1.97028927\n",
      "   0.60429126]\n",
      " [ 1.59699451  0.          1.02607095 ...  1.0486867  -0.59308401\n",
      "  -0.86365481]\n",
      " [-0.82788844  1.06457669  0.         ...  1.51994151 -0.80851709\n",
      "  -0.48900511]\n",
      " ...\n",
      " [-0.06802981  0.11961517  1.48138081 ...  0.          1.46170906\n",
      "  -1.11117929]\n",
      " [ 0.33736363 -0.12368319 -0.58295861 ... -1.41591749  0.\n",
      "   1.5084279 ]\n",
      " [ 0.22190426  0.59287758 -0.59718036 ... -0.60967821  0.95992294\n",
      "   0.        ]]\n"
     ]
    }
   ],
   "source": [
    "print(cont_nn.coupling_matrix)\n"
   ]
  },
  {
   "cell_type": "code",
   "execution_count": 9,
   "metadata": {},
   "outputs": [],
   "source": [
    "def test_jacobian_shape():\n",
    "    coupling_matrix = np.eye(3, k=1)\n",
    "    state = np.zeros(3)\n",
    "    cont_nn = ContinuousNN(coupling_matrix=coupling_matrix, n_dofs=3)\n",
    "    assert np.all(cont_nn.jacobian(state) == np.array([[-1, 1, 0], [0, -1, 1],\n",
    "                                                [0, 0, 1]]))\n"
   ]
  },
  {
   "cell_type": "code",
   "execution_count": 10,
   "metadata": {},
   "outputs": [
    {
     "ename": "AssertionError",
     "evalue": "",
     "output_type": "error",
     "traceback": [
      "\u001b[0;31m---------------------------------------------------------------------------\u001b[0m",
      "\u001b[0;31mAssertionError\u001b[0m                            Traceback (most recent call last)",
      "\u001b[0;32m<ipython-input-10-772e4360cf8c>\u001b[0m in \u001b[0;36m<module>\u001b[0;34m\u001b[0m\n\u001b[0;32m----> 1\u001b[0;31m \u001b[0mtest_jacobian_shape\u001b[0m\u001b[0;34m(\u001b[0m\u001b[0;34m)\u001b[0m\u001b[0;34m\u001b[0m\u001b[0;34m\u001b[0m\u001b[0m\n\u001b[0m",
      "\u001b[0;32m<ipython-input-9-715fbc69f2e5>\u001b[0m in \u001b[0;36mtest_jacobian_shape\u001b[0;34m()\u001b[0m\n\u001b[1;32m      3\u001b[0m     \u001b[0mstate\u001b[0m \u001b[0;34m=\u001b[0m \u001b[0mnp\u001b[0m\u001b[0;34m.\u001b[0m\u001b[0mzeros\u001b[0m\u001b[0;34m(\u001b[0m\u001b[0;36m3\u001b[0m\u001b[0;34m)\u001b[0m\u001b[0;34m\u001b[0m\u001b[0;34m\u001b[0m\u001b[0m\n\u001b[1;32m      4\u001b[0m     \u001b[0mcont_nn\u001b[0m \u001b[0;34m=\u001b[0m \u001b[0mContinuousNN\u001b[0m\u001b[0;34m(\u001b[0m\u001b[0mcoupling_matrix\u001b[0m\u001b[0;34m=\u001b[0m\u001b[0mcoupling_matrix\u001b[0m\u001b[0;34m,\u001b[0m \u001b[0mn_dofs\u001b[0m\u001b[0;34m=\u001b[0m\u001b[0;36m3\u001b[0m\u001b[0;34m)\u001b[0m\u001b[0;34m\u001b[0m\u001b[0;34m\u001b[0m\u001b[0m\n\u001b[0;32m----> 5\u001b[0;31m     assert np.all(cont_nn.jacobian(state) == np.array([[-1, 1, 0], [0, -1, 1],\n\u001b[0m\u001b[1;32m      6\u001b[0m                                                 [0, 0, 1]]))\n",
      "\u001b[0;31mAssertionError\u001b[0m: "
     ]
    }
   ],
   "source": [
    "test_jacobian_shape()\n"
   ]
  },
  {
   "cell_type": "code",
   "execution_count": null,
   "metadata": {},
   "outputs": [],
   "source": []
  }
 ],
 "metadata": {
  "kernelspec": {
   "display_name": "Python 3",
   "language": "python",
   "name": "python3"
  },
  "language_info": {
   "codemirror_mode": {
    "name": "ipython",
    "version": 3
   },
   "file_extension": ".py",
   "mimetype": "text/x-python",
   "name": "python",
   "nbconvert_exporter": "python",
   "pygments_lexer": "ipython3",
   "version": "3.8.1"
  }
 },
 "nbformat": 4,
 "nbformat_minor": 2
}
