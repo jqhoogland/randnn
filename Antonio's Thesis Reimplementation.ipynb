{
 "cells": [
  {
   "cell_type": "code",
   "execution_count": 1,
   "metadata": {},
   "outputs": [
    {
     "ename": "ImportError",
     "evalue": "cannot import name 'EulerMaruyama' from 'data.integrate' (/Users/Jesse/Projects/masters-thesis/code/data/integrate.py)",
     "output_type": "error",
     "traceback": [
      "\u001b[0;31m---------------------------------------------------------------------------\u001b[0m",
      "\u001b[0;31mImportError\u001b[0m                               Traceback (most recent call last)",
      "\u001b[0;32m<ipython-input-1-482a0b156e06>\u001b[0m in \u001b[0;36m<module>\u001b[0;34m\u001b[0m\n\u001b[1;32m      8\u001b[0m     \u001b[0msys\u001b[0m\u001b[0;34m.\u001b[0m\u001b[0mpath\u001b[0m\u001b[0;34m.\u001b[0m\u001b[0mappend\u001b[0m\u001b[0;34m(\u001b[0m\u001b[0mmodule_path\u001b[0m\u001b[0;34m)\u001b[0m\u001b[0;34m\u001b[0m\u001b[0;34m\u001b[0m\u001b[0m\n\u001b[1;32m      9\u001b[0m \u001b[0;34m\u001b[0m\u001b[0m\n\u001b[0;32m---> 10\u001b[0;31m \u001b[0;32mfrom\u001b[0m \u001b[0mdata\u001b[0m\u001b[0;34m.\u001b[0m\u001b[0mlorenz\u001b[0m \u001b[0;32mimport\u001b[0m \u001b[0mLorenz\u001b[0m\u001b[0;34m\u001b[0m\u001b[0;34m\u001b[0m\u001b[0m\n\u001b[0m\u001b[1;32m     11\u001b[0m \u001b[0;32mfrom\u001b[0m \u001b[0mdata\u001b[0m\u001b[0;34m.\u001b[0m\u001b[0mdouble_well\u001b[0m \u001b[0;32mimport\u001b[0m \u001b[0mDoubleWellStochastic\u001b[0m\u001b[0;34m\u001b[0m\u001b[0;34m\u001b[0m\u001b[0m\n\u001b[1;32m     12\u001b[0m \u001b[0;32mfrom\u001b[0m \u001b[0mtransform\u001b[0m\u001b[0;34m.\u001b[0m\u001b[0mtransfer_operator\u001b[0m \u001b[0;32mimport\u001b[0m \u001b[0;34m*\u001b[0m\u001b[0;34m\u001b[0m\u001b[0;34m\u001b[0m\u001b[0m\n",
      "\u001b[0;32m~/Projects/masters-thesis/code/data/__init__.py\u001b[0m in \u001b[0;36m<module>\u001b[0;34m\u001b[0m\n\u001b[0;32m----> 1\u001b[0;31m \u001b[0;32mfrom\u001b[0m \u001b[0;34m.\u001b[0m\u001b[0mtrajectory\u001b[0m \u001b[0;32mimport\u001b[0m \u001b[0;34m*\u001b[0m\u001b[0;34m\u001b[0m\u001b[0;34m\u001b[0m\u001b[0m\n\u001b[0m\u001b[1;32m      2\u001b[0m \u001b[0;32mfrom\u001b[0m \u001b[0;34m.\u001b[0m\u001b[0mlorenz\u001b[0m \u001b[0;32mimport\u001b[0m \u001b[0;34m*\u001b[0m\u001b[0;34m\u001b[0m\u001b[0;34m\u001b[0m\u001b[0m\n\u001b[1;32m      3\u001b[0m \u001b[0;32mfrom\u001b[0m \u001b[0;34m.\u001b[0m\u001b[0mdouble_well\u001b[0m \u001b[0;32mimport\u001b[0m \u001b[0;34m*\u001b[0m\u001b[0;34m\u001b[0m\u001b[0;34m\u001b[0m\u001b[0m\n",
      "\u001b[0;32m~/Projects/masters-thesis/code/data/trajectory.py\u001b[0m in \u001b[0;36m<module>\u001b[0;34m\u001b[0m\n\u001b[1;32m     17\u001b[0m \u001b[0mmatplotlib\u001b[0m\u001b[0;34m.\u001b[0m\u001b[0mrcParams\u001b[0m\u001b[0;34m[\u001b[0m\u001b[0;34m'text.usetex'\u001b[0m\u001b[0;34m]\u001b[0m \u001b[0;34m=\u001b[0m \u001b[0;32mTrue\u001b[0m\u001b[0;34m\u001b[0m\u001b[0;34m\u001b[0m\u001b[0m\n\u001b[1;32m     18\u001b[0m \u001b[0;34m\u001b[0m\u001b[0m\n\u001b[0;32m---> 19\u001b[0;31m \u001b[0;32mfrom\u001b[0m \u001b[0mdata\u001b[0m\u001b[0;34m.\u001b[0m\u001b[0mintegrate\u001b[0m \u001b[0;32mimport\u001b[0m \u001b[0mEulerMaruyama\u001b[0m\u001b[0;34m\u001b[0m\u001b[0;34m\u001b[0m\u001b[0m\n\u001b[0m\u001b[1;32m     20\u001b[0m \u001b[0;34m\u001b[0m\u001b[0m\n\u001b[1;32m     21\u001b[0m \u001b[0;32mclass\u001b[0m \u001b[0mTrajectory\u001b[0m\u001b[0;34m(\u001b[0m\u001b[0mobject\u001b[0m\u001b[0;34m)\u001b[0m\u001b[0;34m:\u001b[0m\u001b[0;34m\u001b[0m\u001b[0;34m\u001b[0m\u001b[0m\n",
      "\u001b[0;31mImportError\u001b[0m: cannot import name 'EulerMaruyama' from 'data.integrate' (/Users/Jesse/Projects/masters-thesis/code/data/integrate.py)"
     ]
    }
   ],
   "source": [
    "import os, sys, logging\n",
    "\n",
    "import numpy as np\n",
    "import matplotlib.pyplot as plt\n",
    "\n",
    "module_path = os.path.abspath(os.path.join('..'))\n",
    "if module_path not in sys.path:\n",
    "    sys.path.append(module_path)\n",
    "    \n",
    "from data.lorenz import Lorenz\n",
    "from data.double_well import DoubleWellStochastic\n",
    "from transform.transfer_operator import * \n",
    "from misc.utils import eigs_sort #, abs_eig_sort, real_eig_sort\n",
    "\n",
    "# Keep 3 digits of accuracy, and avoid scientific notation when possible.\n",
    "np.set_printoptions(precision=3, suppress=True, threshold=100) \n",
    "\n",
    "from scipy.sparse.linalg import eigs, eigsh\n",
    "from matplotlib.animation import FuncAnimation\n",
    "from matplotlib import rc, lines\n",
    "from IPython.display import HTML\n",
    "rc('animation', html='html5')\n",
    "rc('savefig', dpi=300)\n"
   ]
  },
  {
   "cell_type": "code",
   "execution_count": null,
   "metadata": {},
   "outputs": [],
   "source": [
    "double_well_system = DoubleWellStochastic(temperature=0.32, step_size=.001)\n",
    "transfer_operator = TransferOperator(labeling_method=\"uniform\", n_delays=0, embedding_dim=1)\n"
   ]
  },
  {
   "cell_type": "code",
   "execution_count": null,
   "metadata": {
    "scrolled": false
   },
   "outputs": [],
   "source": [
    "# T = 5 x 10^5\n",
    "# dt = 10e-3\n",
    "# => n_steps = 5 x 10^8\n",
    "# \\sqrt{2\\beta^-1} = 0.8a\n",
    "#double_well_samples = double_well_system.gen_data_or_load(n_steps=1000000)\n",
    "double_well_samples = double_well_system.gen_data(n_steps=1000000)\n",
    "double_well_system.save(double_well_samples)\n",
    "double_well_system.pdf(double_well_samples)\n",
    "# _ = double_well_system.get_boltzmann_dist(double_well_samples)\n",
    "_ = double_well_system.get_boltzmann_dist_exact()"
   ]
  },
  {
   "cell_type": "code",
   "execution_count": null,
   "metadata": {},
   "outputs": [],
   "source": [
    "xs = np.arange(-2, 2, .01)\n",
    "get_potential = lambda x: np.square(np.square(x)-1.) + 1\n",
    "potential = get_potential(xs)\n",
    "\n",
    "fig, ax = plt.subplots()\n",
    "xdata, ydata = [], []\n",
    "ln, = plt.plot([], [], 'ro')\n",
    "plt.plot(xs, potential) \n",
    "\n",
    "ax.set_ylim(-0.5,9)\n",
    "ax.set_xticks([-2, -1, 0, 1, 2])\n",
    "#ax.set_yticks([])\n",
    "ax.set_frame_on(False)\n",
    "ax.get_xaxis().tick_bottom()\n",
    "plt.tight_layout()\n",
    "\n",
    "ax.axes.get_yaxis().set_visible(False)\n",
    "xmin, xmax = ax.get_xaxis().get_view_interval()\n",
    "ax.add_artist(lines.Line2D((xmin, xmax), (0, 0), color='black', linewidth=2))\n",
    "ax.spines['bottom'].set_position(('data', 0))\n",
    "\n",
    "def update(frame):\n",
    "    x = double_well_samples[40000 + 40 * frame]\n",
    "    xdata = [x, x]\n",
    "    ydata = ([0,  get_potential(x)])\n",
    "    ln.set_data(xdata, ydata)\n",
    "    return ln,\n",
    "\n",
    "ani = FuncAnimation(fig, update, frames=1500, interval=10, blit=False)\n",
    "ani"
   ]
  },
  {
   "cell_type": "code",
   "execution_count": null,
   "metadata": {},
   "outputs": [],
   "source": [
    "xs = np.arange(-5, 5, .01)\n",
    "get_potential = lambda x: np.square(np.square(x)-1.) + 1\n",
    "potential = get_potential(xs)\n",
    "\n",
    "fig, ax = plt.subplots()\n",
    "xdata, ydata = [], []\n",
    "ln, = plt.plot([], [], 'ro')\n",
    "plt.plot(xs, potential) \n",
    "time_text = ax.text(10, 50,'R', fontsize=72, fontweight=\"bold\")\n",
    "\n",
    "ax.set_ylim(-0.5,100)\n",
    "ax.set_xlim(-20,20)\n",
    "\n",
    "#ax.set_yticks([])\n",
    "ax.set_xticks([0])\n",
    "ax.set_xticklabels([\"\"])\n",
    "\n",
    "ax.set_frame_on(False)\n",
    "ax.get_xaxis().tick_bottom()\n",
    "plt.tight_layout()\n",
    "\n",
    "ax.axes.get_yaxis().set_visible(False)\n",
    "xmin, xmax = ax.get_xaxis().get_view_interval()\n",
    "ax.add_artist(lines.Line2D((xmin, xmax), (0, 0), color='black', linewidth=2))\n",
    "ax.spines['bottom'].set_position(('data', 0))\n",
    "\n",
    "def update(frame):\n",
    "    xdata = double_well_samples[40000 + 40 * frame]\n",
    "    ydata = (xdata)\n",
    "    ln.set_data(xdata, ydata)\n",
    "    \n",
    "    label = \"L\"\n",
    "    xpos = -10\n",
    "    if xdata > 0:\n",
    "        label = \"R\"\n",
    "        xpos = 10\n",
    "    \n",
    "    time_text.set_text(label)\n",
    "    time_text.set_x(xpos)\n",
    "    return ln, time_text\n",
    "\n",
    "ani = FuncAnimation(fig, update, frames=1500, interval=10, blit=False)\n",
    "ani"
   ]
  },
  {
   "cell_type": "code",
   "execution_count": null,
   "metadata": {},
   "outputs": [],
   "source": [
    "np.random.seed(123)\n",
    "\n",
    "logging.basicConfig(level=logging.INFO)\n",
    "\n",
    "\n",
    "downsampler = DownSampler(transfer_operator, 1000)\n",
    "trans_matrix = downsampler.fit_trans_matrix(double_well_samples)\n",
    "invariant_dist = transfer_operator.get_invariant_dist(trans_matrix)\n",
    "rev_trans_matrix = transfer_operator.get_reversible_trans_matrix(trans_matrix, invariant_dist)"
   ]
  },
  {
   "cell_type": "code",
   "execution_count": null,
   "metadata": {},
   "outputs": [],
   "source": [
    "spectrum_1, eig_vecs_1 = eigs_sort(trans_matrix.T, 50, which='LR')\n",
    "\n",
    "stable_dist = np.abs(eig_vecs_1[:,0])\n",
    "min_x = np.amin(double_well_samples, axis=0)\n",
    "max_x = np.amax(double_well_samples, axis=0)\n",
    "step = (max_x-min_x) / stable_dist.size\n",
    "\n",
    "plt.plot(np.arange(min_x, max_x-step+.0001, step), stable_dist)\n",
    "plt.title(\"Stationary distribution of the (transpose) transfer matrix.\")\n",
    "plt.ylabel(\"P(x)\")\n",
    "plt.xlabel(\"x\")"
   ]
  },
  {
   "cell_type": "code",
   "execution_count": null,
   "metadata": {},
   "outputs": [],
   "source": []
  },
  {
   "cell_type": "code",
   "execution_count": null,
   "metadata": {},
   "outputs": [],
   "source": [
    "plt.plot(np.arange(1,51), spectrum_1) \n",
    "print(spectrum_1)\n",
    "plt.title(\"Eigenvalue spectrum of the transfer matrix.\")\n",
    "plt.xlabel(\"Eigenvalue index\")\n",
    "plt.ylabel(\"Absolute value.\")"
   ]
  },
  {
   "cell_type": "code",
   "execution_count": null,
   "metadata": {},
   "outputs": [],
   "source": [
    "fig, ax = plt.subplots()\n",
    "xdata, ydata = [], []\n",
    "ln, = plt.plot(np.arange(min_x, max_x-step+.001, step), eig_vecs_1[:, 0])\n",
    "\n",
    "ax.set_xlabel(\"x\")    \n",
    "ax.set_ylabel(\"y\")\n",
    "ax.set_ylim((-.25, .25))\n",
    "\n",
    "def update(frame):\n",
    "    ax.set_title(\"Eigenfunction {} of the nonreversibilized transfer matrix. Eigenvalue={}.\".format(frame+1, spectrum_1[frame]))\n",
    "    ln.set_data(np.arange(min_x, max_x-step+0.001, step), eig_vecs_1[:, frame])\n",
    "    return ln,\n",
    "\n",
    "anim = FuncAnimation(fig, update, frames=4, blit=False, interval=1000)\n",
    "\n",
    "HTML(anim.to_html5_video())"
   ]
  },
  {
   "cell_type": "code",
   "execution_count": null,
   "metadata": {},
   "outputs": [],
   "source": [
    "spectrum, eig_vecs = eigs(rev_trans_matrix, 50, which='LR')\n",
    "print(spectrum)\n",
    "\n",
    "\n",
    "spectrum[spectrum ==np.inf] = 0\n",
    "spectrum[spectrum ==np.NaN] = 0\n",
    "plt.plot(np.arange(1,51), spectrum)\n"
   ]
  },
  {
   "cell_type": "code",
   "execution_count": null,
   "metadata": {},
   "outputs": [],
   "source": [
    "stable_dist_2  = eig_vecs[:,0]\n",
    "stable_dist_3  = eig_vecs[:,1]\n",
    " \n",
    "plt.title(\"First two eigenfunctions of the reversibilized transfer matrix.\")\n",
    "plt.xlabel(\"x\")\n",
    "plt.ylabel(\"y\")\n",
    "plt.plot(np.arange(min_x, max_x, step), stable_dist_2)\n",
    "plt.plot(np.arange(min_x, max_x, step), stable_dist_3)\n",
    "plt.show()\n",
    "\n",
    "\n",
    "\n",
    "#double_well_system.pdf(reconstructed_samples[:,:1])\n",
    "#double_well_system.get_boltzmann_dist(reconstructed_samples[:,:1])"
   ]
  },
  {
   "cell_type": "code",
   "execution_count": null,
   "metadata": {},
   "outputs": [],
   "source": [
    "fig, ax = plt.subplots()\n",
    "xdata, ydata = [], []\n",
    "ln, = plt.plot(np.arange(min_x, max_x, step), eig_vecs[:, 0])\n",
    "\n",
    "ax.set_xlabel(\"x\")    \n",
    "ax.set_ylabel(\"y\")\n",
    "ax.set_ylim((-.25, .25))\n",
    "\n",
    "def update(frame):\n",
    "    ax.set_title(\"Eigenfunction {} of the reversibilized transfer matrix. Eigenvalue={}.\".format(frame+1, spectrum[frame]))\n",
    "    ln.set_data(np.arange(min_x, max_x, step), eig_vecs[:, frame])\n",
    "    return ln,\n",
    "\n",
    "anim = FuncAnimation(fig, update, frames=50, blit=False, interval=350)\n",
    "\n",
    "HTML(anim.to_html5_video())"
   ]
  },
  {
   "cell_type": "markdown",
   "metadata": {},
   "source": [
    "![figB](./images/figB.png)"
   ]
  },
  {
   "cell_type": "code",
   "execution_count": null,
   "metadata": {},
   "outputs": [],
   "source": [
    "\n"
   ]
  },
  {
   "cell_type": "code",
   "execution_count": null,
   "metadata": {},
   "outputs": [],
   "source": [
    "double_well_samples_2 = double_well_system.gen_data(n_steps=100000)\n",
    "\n",
    "downsampler_2 = DownSampler(transfer_operator, 1000)\n",
    "double_well_samples_split_2 = downsampler_2.downsample(double_well_samples_2)\n",
    "\n",
    "def plot_t_imp_scaling(time_series, eigval_idx, n_partitionings_list=[2, 10, 100], taus=range(1, 17, 4), transition_time=1):\n",
    "    plt.title(\"Scaling of $t$ with $\\\\tau$ and $n_p$\")\n",
    "    for n_partitionings in n_partitionings_list:\n",
    "        t_imps = np.zeros(len(taus))\n",
    "        for i, tau in tqdm(enumerate(taus), desc=\"computing t_imp\"):\n",
    "            t_imps[i] = downsampler_2.get_t_imp(time_series, eigval_idx, n_partitionings, tau, transition_time)\n",
    "            \n",
    "        plt.plot(taus, t_imps, label=\"$n_p = {}$\".format(n_partitionings))\n",
    "\n",
    "    plt.legend()\n",
    "    plt.show()\n",
    "    \n",
    "plot_t_imp_scaling(double_well_samples_split_2, 1)\n",
    "    \n",
    "    \n",
    "    "
   ]
  },
  {
   "cell_type": "markdown",
   "metadata": {},
   "source": [
    "---"
   ]
  },
  {
   "cell_type": "code",
   "execution_count": null,
   "metadata": {},
   "outputs": [],
   "source": [
    "lorenz_system = Lorenz()\n",
    "lorenz_samples = lorenz_system.gen_data() \n"
   ]
  },
  {
   "cell_type": "code",
   "execution_count": null,
   "metadata": {},
   "outputs": [],
   "source": [
    "lorenz_system.plot_trajectory(lorenz_samples, \"xy\")"
   ]
  },
  {
   "cell_type": "code",
   "execution_count": null,
   "metadata": {},
   "outputs": [],
   "source": [
    "lorenz_transfer = TransferOperator()\n",
    "lorenz_reconstructed = lorenz_transfer.fit_transform(\n",
    "    lorenz_samples[:, 0:1],\n",
    "    embedding_dim_range=np.arange(1,5),\n",
    "    delay_range=np.arange(1,20), \n",
    "    delay_clusters_range=np.arange(100,101), \n",
    "    dim_clusters_range=np.arange(100,101)\n",
    ")"
   ]
  },
  {
   "cell_type": "code",
   "execution_count": null,
   "metadata": {},
   "outputs": [],
   "source": [
    "lorenz_system.plot_trajectory(lorenz_reconstructed, \"xy\")"
   ]
  },
  {
   "cell_type": "code",
   "execution_count": null,
   "metadata": {},
   "outputs": [],
   "source": [
    "1000000"
   ]
  },
  {
   "cell_type": "code",
   "execution_count": null,
   "metadata": {},
   "outputs": [],
   "source": []
  },
  {
   "cell_type": "code",
   "execution_count": null,
   "metadata": {},
   "outputs": [],
   "source": []
  },
  {
   "cell_type": "code",
   "execution_count": null,
   "metadata": {},
   "outputs": [],
   "source": []
  },
  {
   "cell_type": "code",
   "execution_count": null,
   "metadata": {},
   "outputs": [],
   "source": []
  },
  {
   "cell_type": "code",
   "execution_count": null,
   "metadata": {},
   "outputs": [],
   "source": []
  },
  {
   "cell_type": "code",
   "execution_count": null,
   "metadata": {},
   "outputs": [],
   "source": []
  },
  {
   "cell_type": "code",
   "execution_count": null,
   "metadata": {},
   "outputs": [],
   "source": []
  }
 ],
 "metadata": {
  "kernelspec": {
   "display_name": "Python 3",
   "language": "python",
   "name": "python3"
  },
  "language_info": {
   "codemirror_mode": {
    "name": "ipython",
    "version": 3
   },
   "file_extension": ".py",
   "mimetype": "text/x-python",
   "name": "python",
   "nbconvert_exporter": "python",
   "pygments_lexer": "ipython3",
   "version": "3.8.6"
  }
 },
 "nbformat": 4,
 "nbformat_minor": 2
}
