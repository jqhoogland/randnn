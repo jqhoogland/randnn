{
 "cells": [
  {
   "cell_type": "code",
   "execution_count": 1,
   "metadata": {},
   "outputs": [],
   "source": [
    "import logging, sys\n",
    "from typing import List, Callable, Optional, Any\n",
    "\n",
    "import numpy as np\n",
    "import matplotlib.pyplot as plt\n",
    "from matplotlib import rc\n",
    "from sklearn.decomposition import PCA \n",
    "from IPython.display import display, Latex\n",
    "\n",
    "from randnn import downsample, downsample_split, avg_over\n",
    "from randnn.utils import np_cache, eigsort\n",
    "from randnn.plotting import *\n",
    "from randnn.systems import DoubleWell\n",
    "from randnn.transfer_operator import *\n",
    "\n",
    "rc('text', usetex=True)\n",
    "logging.basicConfig(level=logging.INFO)\n",
    "np.set_printoptions(threshold=100)"
   ]
  },
  {
   "cell_type": "markdown",
   "metadata": {},
   "source": [
    "# Applying the transfer operator approach\n",
    "\n",
    "### 1. Coarse-graining in space:\n",
    "\n",
    "#### Clustering\n",
    "\n",
    "We run an explicit coarse-graining step by clustering the embedding space.\n",
    "\n",
    "### 2. Coarse-graining in time: \n",
    "\n",
    "#### Downsampling\n",
    "We are interested in the long-term behavior of the system (and have finitely powerful computers), so we downsample the trajectory, discarding many intermediate timesteps.\n",
    "\n",
    "#### Delay embedding\n",
    "To achieve a near-memory-less (Markovian) definition of state, we stack delayed copies of measurements within a short time window.\n",
    "\n",
    "# Parameters"
   ]
  },
  {
   "cell_type": "code",
   "execution_count": 2,
   "metadata": {},
   "outputs": [],
   "source": [
    "# ------------------------\n",
    "# DOUBLE WELL PARAMETERS\n",
    "# ------------------------\n",
    "\n",
    "# Main parameters:\n",
    "BETA = 1. # 2.\n",
    "IS_OVERDAMPED = True\n",
    "\n",
    "# The following parameters influence temporal resolution and trajectory duration\n",
    "TIMESTEP = 0.01 # 0.01 \n",
    "DOWNSAMPLE_RATE = 100 # 10\n",
    "\n",
    "TIMESPAN = 100000 # 100000\n",
    "N_STEPS = int(TIMESPAN // TIMESTEP)\n",
    "N_BURNIN_STEPS = 1000 \n",
    "\n",
    "N_CLUSTERS = 1225\n",
    "TRANSITION_TIMESCALE = 1 # This is the number of timesteps to take before counting a transition from one cell to the next\n",
    "# -----------------------\n",
    "# PLOTTING PARAMETERS\n",
    "# ------------------------\n",
    "\n",
    "EIGENVALUE_RANGE = [1, 10]"
   ]
  },
  {
   "cell_type": "markdown",
   "metadata": {},
   "source": [
    "# Generating data — Overdamped"
   ]
  },
  {
   "cell_type": "code",
   "execution_count": 3,
   "metadata": {},
   "outputs": [
    {
     "name": "stderr",
     "output_type": "stream",
     "text": [
      "INFO:root:Loading from save ./saves/trajectories/trajectory-5914cf1912fc76edb06ec6f5e932cd2a.npy\n"
     ]
    }
   ],
   "source": [
    "dw_overdamped = DoubleWell(beta=BETA, timestep=TIMESTEP, is_overdamped=True)\n",
    "ts_overdamped = dw_overdamped.run(n_steps=N_STEPS, n_burn_in=N_BURNIN_STEPS)[::DOWNSAMPLE_RATE]"
   ]
  },
  {
   "cell_type": "markdown",
   "metadata": {},
   "source": [
    "## Equilibrium\n",
    "\n",
    "Let's establish that we've actually settled into equilibrium. \n",
    "\n",
    "### Boltzmann distribution\n",
    "\n",
    "The first check is that the Boltzmann distributions appear qualitatively similar. If this is off, we already know we need to go back to the drawing board.\n"
   ]
  },
  {
   "cell_type": "code",
   "execution_count": 4,
   "metadata": {},
   "outputs": [
    {
     "data": {
      "image/png": "[encoded data removed]",
      "text/plain": [
       "<Figure size 432x288 with 1 Axes>"
      ]
     },
     "metadata": {
      "needs_background": "light"
     },
     "output_type": "display_data"
    },
    {
     "data": {
      "image/png": "[encoded data removed]",
      "text/plain": [
       "<Figure size 432x288 with 1 Axes>"
      ]
     },
     "metadata": {
      "needs_background": "light"
     },
     "output_type": "display_data"
    }
   ],
   "source": [
    "dX = 0.01\n",
    "positions = np.array([np.arange(-2, 2, dX)]).T\n",
    "\n",
    "# We compare the observed Boltzmann distribution...\n",
    "\n",
    "plt.hist(ts_overdamped, density=True, bins=N_CLUSTERS)\n",
    "plt.ylabel(\"P(x)\")\n",
    "plt.xlabel(\"x\")\n",
    "\n",
    "plt.title(\"Distribution of positions in the generated trajectory\")\n",
    "plt.show()\n",
    "\n",
    "# ...against the theoretical distribution\n",
    "\n",
    "weights = dw_overdamped.boltzmann_weights(positions)\n",
    "plt.hist(positions, weights=weights, bins=N_CLUSTERS)\n",
    "plt.ylabel(\"P(x)\")\n",
    "plt.xlabel(\"x\")\n",
    "\n",
    "plt.title(\"True Boltzmann distribution.\")\n",
    "plt.show()"
   ]
  },
  {
   "cell_type": "markdown",
   "metadata": {},
   "source": [
    "### Energy distribution\n",
    "\n",
    "For a more quantitative check, we can compare the observed energy distribution to the theoretical distribution and confirm that the equipartition theorem holds (i.e. that each dof has, on average, an energy $kT/2$). "
   ]
  },
  {
   "cell_type": "code",
   "execution_count": 5,
   "metadata": {},
   "outputs": [
    {
     "data": {
      "image/png": "[encoded data removed]",
      "text/plain": [
       "<Figure size 432x288 with 1 Axes>"
      ]
     },
     "metadata": {
      "needs_background": "light"
     },
     "output_type": "display_data"
    },
    {
     "data": {
      "image/png": "[encoded data removed]",
      "text/plain": [
       "<Figure size 432x288 with 1 Axes>"
      ]
     },
     "metadata": {
      "needs_background": "light"
     },
     "output_type": "display_data"
    },
    {
     "name": "stdout",
     "output_type": "stream",
     "text": [
      "The average energy of the particle is 0.43530917214373416\n",
      "The theoretical energy is (as given by the equipartition theorem):\n"
     ]
    },
    {
     "data": {
      "text/latex": [
       "$kT/2 = 0.5$"
      ],
      "text/plain": [
       "<IPython.core.display.Latex object>"
      ]
     },
     "metadata": {},
     "output_type": "display_data"
    }
   ],
   "source": [
    "# We compare the observed energy distribution...\n",
    "energies = dw_overdamped.energy(ts_overdamped)\n",
    "plt.title(\"Observed energy distribution\")\n",
    "plt.hist(energies, density=True, bins=N_CLUSTERS)\n",
    "plt.ylabel(\"P(E)\")\n",
    "plt.xlabel(\"E\")\n",
    "plt.show()\n",
    "\n",
    "# ... against the theoretical distribution.\n",
    "\n",
    "theoretical_energies = dw_overdamped.energy(positions) \n",
    "plt.title(\"Theoretical energy distribution\")\n",
    "plt.hist(theoretical_energies, density=True, bins=N_CLUSTERS, weights=weights)\n",
    "plt.ylabel(\"P(E)\")\n",
    "plt.xlabel(\"E\")\n",
    "plt.show()\n",
    "\n",
    "# And compare the average energy.\n",
    "print(f\"The average energy of the particle is {np.mean(energies)}\")\n",
    "print(\"The theoretical energy is (as given by the equipartition theorem):\")\n",
    "display(Latex(f\"$kT/2 = {1./(2* BETA)}$\"))"
   ]
  },
  {
   "cell_type": "markdown",
   "metadata": {},
   "source": [
    "### Convergence\n",
    "\n",
    "We make sure we've included enough burn in samples and that the running average energy isn't fluctuating too wildly."
   ]
  },
  {
   "cell_type": "code",
   "execution_count": 6,
   "metadata": {},
   "outputs": [
    {
     "data": {
      "text/plain": [
       "'\\nrunning_avg_energy = dw_overdamped.running_avg(\\n    ts_overdamped, \\n    dw_overdamped.energy,\\n    window_size=10000,\\n    step_size=1000,\\n    verbose=True\\n)\\n\\nplt.plot(running_avg_energy)\\n'"
      ]
     },
     "execution_count": 6,
     "metadata": {},
     "output_type": "execute_result"
    }
   ],
   "source": [
    "\"\"\"\n",
    "running_avg_energy = dw_overdamped.running_avg(\n",
    "    ts_overdamped, \n",
    "    dw_overdamped.energy,\n",
    "    window_size=10000,\n",
    "    step_size=1000,\n",
    "    verbose=True\n",
    ")\n",
    "\n",
    "plt.plot(running_avg_energy)\n",
    "\"\"\""
   ]
  },
  {
   "cell_type": "markdown",
   "metadata": {},
   "source": [
    "# Testing Transfer matrix – Overdamped case"
   ]
  },
  {
   "cell_type": "code",
   "execution_count": 7,
   "metadata": {},
   "outputs": [
    {
     "data": {
      "application/vnd.jupyter.widget-view+json": {
       "model_id": "9dc1ec5be2484eac93b29197b012d2f7",
       "version_major": 2,
       "version_minor": 0
      },
      "text/plain": [
       "HBox(children=(HTML(value='Creating the transfer matrix'), FloatProgress(value=0.0, max=98.0), HTML(value=''))…"
      ]
     },
     "metadata": {},
     "output_type": "display_data"
    },
    {
     "name": "stdout",
     "output_type": "stream",
     "text": [
      "\n"
     ]
    },
    {
     "name": "stderr",
     "output_type": "stream",
     "text": [
      "/Users/Jesse/.local/share/virtualenvs/randnn-PaBUC3Au/lib/python3.8/site-packages/numpy/core/_asarray.py:83: ComplexWarning: Casting complex values to real discards the imaginary part\n",
      "  return array(a, dtype, copy=False, order=order)\n"
     ]
    },
    {
     "data": {
      "text/plain": [
       "[<matplotlib.lines.Line2D at 0x13703f730>]"
      ]
     },
     "execution_count": 7,
     "metadata": {},
     "output_type": "execute_result"
    },
    {
     "data": {
      "image/png": "[encoded data removed]",
      "text/plain": [
       "<Figure size 432x288 with 1 Axes>"
      ]
     },
     "metadata": {
      "needs_background": "light"
     },
     "output_type": "display_data"
    }
   ],
   "source": [
    "to_overdamped = TransferOperator(labeling_method=\"uniform\", n_clusters=100)\n",
    "to_overdamped.fit(verbose=True, time_series=ts_overdamped, n_future_timesteps=TRANSITION_TIMESCALE, k=50)\n",
    "tm_overdamped = to_overdamped.forward_matrix\n",
    "\n",
    "plt.plot(to_overdamped.invariant_dist)"
   ]
  },
  {
   "cell_type": "markdown",
   "metadata": {},
   "source": [
    "## Equilibrium\n",
    "\n",
    "Let's establish that we've actually settled into equilibrium. \n",
    "\n",
    "### Boltzmann distribution\n",
    "\n",
    "The first check is that the Boltzmann distributions appear qualitatively similar. If this is off, we already know we need to go back to the drawing board.\n"
   ]
  },
  {
   "cell_type": "code",
   "execution_count": 8,
   "metadata": {},
   "outputs": [
    {
     "ename": "NameError",
     "evalue": "name 'eigvecs' is not defined",
     "output_type": "error",
     "traceback": [
      "\u001b[0;31m---------------------------------------------------------------------------\u001b[0m",
      "\u001b[0;31mNameError\u001b[0m                                 Traceback (most recent call last)",
      "\u001b[0;32m<ipython-input-8-1e194392757f>\u001b[0m in \u001b[0;36m<module>\u001b[0;34m\u001b[0m\n\u001b[1;32m      4\u001b[0m \u001b[0;31m# We compare the observed energy distribution...\u001b[0m\u001b[0;34m\u001b[0m\u001b[0;34m\u001b[0m\u001b[0;34m\u001b[0m\u001b[0m\n\u001b[1;32m      5\u001b[0m \u001b[0;34m\u001b[0m\u001b[0m\n\u001b[0;32m----> 6\u001b[0;31m \u001b[0mstable_dist\u001b[0m \u001b[0;34m=\u001b[0m \u001b[0mnp\u001b[0m\u001b[0;34m.\u001b[0m\u001b[0mabs\u001b[0m\u001b[0;34m(\u001b[0m\u001b[0meigvecs\u001b[0m\u001b[0;34m[\u001b[0m\u001b[0;34m:\u001b[0m\u001b[0;34m,\u001b[0m\u001b[0;36m1\u001b[0m\u001b[0;34m]\u001b[0m\u001b[0;34m)\u001b[0m\u001b[0;34m\u001b[0m\u001b[0;34m\u001b[0m\u001b[0m\n\u001b[0m\u001b[1;32m      7\u001b[0m \u001b[0mmin_x\u001b[0m \u001b[0;34m=\u001b[0m \u001b[0mnp\u001b[0m\u001b[0;34m.\u001b[0m\u001b[0mamin\u001b[0m\u001b[0;34m(\u001b[0m\u001b[0mts_overdamped\u001b[0m\u001b[0;34m,\u001b[0m \u001b[0maxis\u001b[0m\u001b[0;34m=\u001b[0m\u001b[0;36m0\u001b[0m\u001b[0;34m)\u001b[0m\u001b[0;34m\u001b[0m\u001b[0;34m\u001b[0m\u001b[0m\n\u001b[1;32m      8\u001b[0m \u001b[0mmax_x\u001b[0m \u001b[0;34m=\u001b[0m \u001b[0mnp\u001b[0m\u001b[0;34m.\u001b[0m\u001b[0mamax\u001b[0m\u001b[0;34m(\u001b[0m\u001b[0mts_overdamped\u001b[0m\u001b[0;34m,\u001b[0m \u001b[0maxis\u001b[0m\u001b[0;34m=\u001b[0m\u001b[0;36m0\u001b[0m\u001b[0;34m)\u001b[0m\u001b[0;34m\u001b[0m\u001b[0;34m\u001b[0m\u001b[0m\n",
      "\u001b[0;31mNameError\u001b[0m: name 'eigvecs' is not defined"
     ]
    }
   ],
   "source": [
    "dX = 0.01\n",
    "positions = np.array([np.arange(-2, 2, dX)]).T\n",
    "\n",
    "# We compare the observed energy distribution...\n",
    "\n",
    "stable_dist = np.abs(eigvecs[:,1])\n",
    "min_x = np.amin(ts_overdamped, axis=0)\n",
    "max_x = np.amax(ts_overdamped, axis=0)\n",
    "step = (max_x-min_x) / stable_dist.size\n",
    "\n",
    "plt.hist(cluster_centers, weights=stable_dist, bins=N_CLUSTERS)\n",
    "plt.ylabel(\"P(x)\")\n",
    "plt.xlabel(\"x\")\n",
    "plt.title(\"Stationary distribution of the (transpose) transfer matrix.\")\n",
    "plt.show()\n",
    "\n",
    "# ...against the theoretical distribution\n",
    "\n",
    "weights = dw_overdamped.boltzmann_weights(positions)\n",
    "plt.hist(positions, weights=weights, bins=N_CLUSTERS)\n",
    "plt.ylabel(\"P(x)\")\n",
    "plt.xlabel(\"x\")\n",
    "\n",
    "plt.title(\"True Boltzmann distribution.\")\n",
    "plt.show()"
   ]
  },
  {
   "cell_type": "markdown",
   "metadata": {},
   "source": [
    "### Energy distribution\n",
    "\n",
    "For a more quantitative check, we can compare the observed energy distribution to the theoretical distribution and confirm that the equipartition theorem holds (i.e. that each dof has, on average, an energy $kT/2$). "
   ]
  },
  {
   "cell_type": "code",
   "execution_count": null,
   "metadata": {},
   "outputs": [],
   "source": [
    "# We compare the observed energy distribution...\n",
    "energies = dw_overdamped.energy(ts_overdamped)\n",
    "plt.title(\"Observed energy distribution\")\n",
    "plt.hist(energies, density=True, bins=N_CLUSTERS)\n",
    "plt.ylabel(\"P(E)\")\n",
    "plt.xlabel(\"E\")\n",
    "plt.show()\n",
    "\n",
    "# ... against the theoretical distribution.\n",
    "\n",
    "theoretical_energies = dw_overdamped.energy(positions) \n",
    "plt.title(\"Theoretical energy distribution\")\n",
    "plt.hist(theoretical_energies, density=True, bins=N_CLUSTERS, weights=weights)\n",
    "plt.ylabel(\"P(E)\")\n",
    "plt.xlabel(\"E\")\n",
    "plt.show()\n",
    "\n",
    "# And compare the average energy.\n",
    "print(f\"The average energy of the particle is {np.mean(energies)}\")\n",
    "print(\"The theoretical energy is (as given by the equipartition theorem):\")\n",
    "display(Latex(f\"$kT/2 = {1./(2* BETA)}$\"))"
   ]
  },
  {
   "cell_type": "code",
   "execution_count": null,
   "metadata": {},
   "outputs": [],
   "source": [
    "raise ValueError"
   ]
  },
  {
   "cell_type": "code",
   "execution_count": null,
   "metadata": {},
   "outputs": [],
   "source": [
    "plot_eig_spectrum(eigvals, EIGENVALUE_RANGE, \"Eigenvalue spectrum of the transfer matrix.\")"
   ]
  },
  {
   "cell_type": "markdown",
   "metadata": {},
   "source": [
    "### Detailed balance\n",
    "\n",
    "Finally, we require that detailed balance holds, i.e.: \n",
    "$$\\pi_i P_{ij} = \\pi_j P_{ji},$$ \n",
    "where $P$ is the transition matrix and $\\pi$ is the stationary distribution."
   ]
  },
  {
   "cell_type": "code",
   "execution_count": null,
   "metadata": {},
   "outputs": [],
   "source": [
    "\n",
    "\n",
    "# Restricting attention to only the spatial component\n",
    "xs = None\n",
    "if IS_OVERDAMPED:\n",
    "    xs = trajectory\n",
    "else:\n",
    "    xs = trajectory[:, 0]\n",
    "\n"
   ]
  },
  {
   "cell_type": "code",
   "execution_count": null,
   "metadata": {},
   "outputs": [],
   "source": [
    "stable_dist = np.abs(eigvecs[:,0])\n",
    "min_x = np.amin(xs, axis=0)\n",
    "max_x = np.amax(xs, axis=0)\n",
    "step = (max_x-min_x) / stable_dist.size\n",
    "\n",
    "if IS_OVERDAMPED:\n",
    "    plt.hist(cluster_centers, weights=stable_dist, bins=N_CLUSTERS//20)\n",
    "    plt.ylabel(\"P(x)\")\n",
    "    plt.xlabel(\"x\")\n",
    "else:\n",
    "    plt.hist2d(cluster_centers[:, 1], cluster_centers[:, 0], bins=N_CLUSTErs, weights=stable_dist)\n",
    "    plt.xlabel(\"x\")\n",
    "    plt.ylabel(\"v\")\n",
    "\n",
    "     \n",
    "plt.title(\"Stationary distribution of the (transpose) transfer matrix.\")\n",
    "plt.show()\n",
    "\n",
    "\n",
    "weights = double_well.boltzmann_weights(cluster_centers)\n",
    "\n",
    "if IS_OVERDAMPED:\n",
    "    plt.hist(cluster_centers, weights=weights, bins=N_CLUSTERS)\n",
    "    plt.ylabel(\"P(x)\")\n",
    "    plt.xlabel(\"x\")\n",
    "else:\n",
    "    plt.hist2d(cluster_centers[:, 0], cluster_centers[:, 1], bins=N_CLUSTERS, weights=weights)\n",
    "    plt.xlabel(\"x\")\n",
    "    plt.ylabel(\"v\")\n"
   ]
  },
  {
   "cell_type": "code",
   "execution_count": null,
   "metadata": {},
   "outputs": [],
   "source": []
  },
  {
   "cell_type": "code",
   "execution_count": null,
   "metadata": {},
   "outputs": [],
   "source": [
    "print(f\"Crossovers {double_well.count_crossovers(xs, 0., 100)}\")\n",
    "print(f\"Time {double_well.transition_time(xs)}\")\n",
    "print(f\"Max eigval {eigvals[1]} and inverse {1./eigvals[1]}\")\n",
    "print(f\"Max timescale {double_well.get_timescale(eigvals[1], multiplier=DOWNSAMPLE_RATE)}\")"
   ]
  },
  {
   "cell_type": "markdown",
   "metadata": {},
   "source": [
    "## Implied timescales\n",
    "\n",
    "The eigenvalues of the transfer matrix correspond to unique (implied) timescales. \n",
    "They are related by $t_\\text{imp} = -\\tau / \\log|\\lambda|$, where: \n",
    "- $t_\\text{imp}$ is the implied timescale,\n",
    "- $\\tau$ is the discretization timestep, and\n",
    "- $\\lambda$ is the eigenvalue for which we want the corresponding timescale.\n",
    "   \n",
    "   \n",
    "For now, we're interested in the dominant timescale, i.e. the timescale corresponding to the second largest eigenvalue (as the first corresponds to the stationary distribution with an infinite timescale).\n",
    "\n",
    "To verify everything's working properly, we can compare our result to the actual value, computed analytically (though not exactly). \n",
    "\n",
    "#### Analytic treatment\n",
    "\n",
    "This result we can take from Voigtlaender and Risken (1984). They treat a particle of mass $m$ moving in a potential of the form $f(x) = ax^2+bx^4$ (so $a<0$, $b>0$). This is coupled to a heat bath of temperature $T$, and is subject to a friction of constant $\\gamma$. The energy scale is $\\theta=kT/m$.\n",
    "\n",
    "In the high-barrier limit (the one we're interested in), we derive the following eigenvalue,\n",
    "$$\\lambda(a,b,\\gamma, \\theta)=\\sqrt{-a}\\cdot\\tilde\\lambda\\left(\\frac{\\gamma}{\\sqrt{-a}}, \\frac{\\theta b}{a^2}\\right),$$\n",
    "in terms of a reparametrized eigenvalue:\n",
    "$$\\tilde\\lambda(\\tilde \\gamma, \\tilde \\theta) = \\frac{\\sqrt{2}}{\\pi}\\left(\\sqrt{\\frac{\\tilde\\gamma^2}{4}+1}-\\frac{\\gamma}{2}\\right)\\exp\\left(\\frac{-1}{4\\tilde\\theta}\\right).$$\n",
    "\n",
    "In our case, we have chosen $f(x) = (x^2-1)^2$, i.e. $a=-4$, $b=4$ (the constant doesn't have any physical bearing since it amounts to reshifting the ground energy). Our particle has mass $m=1$ (i.e. we have already reabsorbed this into the temperature. I believe $\\gamma=1$, i.e. we focus only on changing the temperature (equivalently $\\theta$). \n",
    "\n",
    "Then, the expression above reduces:\n",
    "$$\n",
    "\\begin{align}\n",
    "\\lambda(-4, 4, 1, \\theta)\n",
    "&=\\sqrt{4}\\cdot\\tilde\\lambda\\left(\\frac{1}{2}, \\frac{\\theta}{4}\\right)\\\\\n",
    "&=\\frac{\\sqrt{17}-1}{\\pi\\sqrt{2}} \\exp(-1/\\theta).\n",
    "\\end{align}\n",
    "$$\n",
    "\n"
   ]
  },
  {
   "cell_type": "code",
   "execution_count": null,
   "metadata": {},
   "outputs": [],
   "source": [
    "N_CLUSTERS_LIST = [10, 100, 500]\n",
    "TRANSITION_TIMES = range(1, 20, 4)\n",
    "\n",
    "plot_t_imp_scaling(trajectory, \n",
    "                   1, \n",
    "                   n_clusters_list=N_CLUSTERS_LIST, \n",
    "                   transition_times=TRANSITION_TIMES,\n",
    "                   timestep=TIMESTEP/DOWNSAMPLE_RATE)"
   ]
  },
  {
   "cell_type": "code",
   "execution_count": null,
   "metadata": {},
   "outputs": [],
   "source": [
    "def plot_t_imps(time_series, eigval_idxs=range(1,3), n_clusters=N_CLUSTERS, transition_timescales=range(1, 10, 2), timestep=1):\n",
    "    plt.title(\"Scaling of $t$ with $\\\\tau$ and $n_p$\")\n",
    "    t_imps = np.zeros((len(transition_timescales), len(eigval_idxs)))\n",
    "\n",
    "    for i, tau in tqdm(enumerate(transition_timescales), desc=\"computing t_imp\"):\n",
    "        t_imps[i, :] = transfer_operator.get_t_imp(time_series, eigval_idxs, n_clusters, tau, timestep)\n",
    "    \n",
    "    for i in eigval_idxs:\n",
    "        plt.plot(transition_timescales, t_imps[:, i])\n",
    "\n",
    "    plt.show()\n",
    "    \n",
    "plot_t_imps(trajectory)"
   ]
  },
  {
   "cell_type": "code",
   "execution_count": null,
   "metadata": {},
   "outputs": [],
   "source": []
  },
  {
   "cell_type": "code",
   "execution_count": null,
   "metadata": {},
   "outputs": [],
   "source": [
    "display(Latex(\"For $\\\\beta = {}$, $\\lambda={}$, and $r=\\lambda/2={}$\".format(BETA, dominant_eigval, dominant_eigval/2)))\n",
    "display(Latex(\"With a discretization timestep of $\\\\tau={}$, and a downsampling rate of $R={}$, we get $\\\\tau={}$\"\n",
    "              .format(TIMESTEP, DOWNSAMPLE_RATE, dominant_timescale)))\n",
    "\n",
    "display(Latex(\"Time until half: $\\ln 0.5/ \\ln \\lambda = {}$\".format(1./(dominant_eigval))))"
   ]
  },
  {
   "cell_type": "code",
   "execution_count": null,
   "metadata": {},
   "outputs": [],
   "source": []
  }
 ],
 "metadata": {
  "kernelspec": {
   "display_name": "Python 3",
   "language": "python",
   "name": "python3"
  },
  "language_info": {
   "codemirror_mode": {
    "name": "ipython",
    "version": 3
   },
   "file_extension": ".py",
   "mimetype": "text/x-python",
   "name": "python",
   "nbconvert_exporter": "python",
   "pygments_lexer": "ipython3",
   "version": "3.8.6"
  }
 },
 "nbformat": 4,
 "nbformat_minor": 2
}
