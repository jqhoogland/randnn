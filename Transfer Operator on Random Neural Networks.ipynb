{
 "cells": [
  {
   "cell_type": "code",
   "execution_count": 1,
   "metadata": {},
   "outputs": [],
   "source": [
    "import logging\n",
    "from typing import List, Callable, Optional, Any\n",
    "\n",
    "import numpy as np\n",
    "import matplotlib.pyplot as plt\n",
    "from matplotlib import rc\n",
    "from sklearn.decomposition import PCA\n",
    "\n",
    "from randnn import ContinuousNN, get_attractor_dimension, scaling_analysis, downsample, downsample_split, avg_over\n",
    "from randnn.utils import np_cache, eigsort, count_cycles\n",
    "from randnn.plotting import *\n",
    "from randnn.systems import DoubleWell\n",
    "from randnn.transfer_operator import *\n",
    "\n",
    "rc('text', usetex=True)\n",
    "logging.basicConfig(level=logging.INFO)"
   ]
  },
  {
   "cell_type": "markdown",
   "metadata": {},
   "source": [
    "# Applying the transfer operator approach\n",
    "\n",
    "#### 1. Measurement / Simulation\n",
    "\n",
    "We begin by simulating the data, a $N$-dimensional time series of $T$ timesteps.\n",
    "\n",
    "$T \\times N$\n",
    "\n",
    "#### 2. Initial dimensional reduction\n",
    "\n",
    "In the case of the random neural network, we know that the chaotic dynamics exist near a much lower-dimensional manifold. Therefore, we don't need to deal with a very high-dimensional space (and thus computationally intractable), but can play with a much lower dimensional space.\n",
    "\n",
    "Using PCA we project down to a dimensionality $D$. We can choose this ourselves, or choose it automatically via some measure of manifold dimensionality. For example, the Lyapunov-spectrum-derived attractor dimension.\n",
    "\n",
    "Note: this choice of $D$ may not be optimal (Engelken et al. 2020 found that the \"PCA dimension\" could vary independently from the attractor dimension).\n",
    "\n",
    "$T \\times D$\n",
    "\n",
    "#### 3. Downsampling \n",
    "\n",
    "We are interested in the long-term behavior of the system (and have finitely powerful computers), so we downsample the trajectory with a downsampling rate $D$ (i.e. keeping one in $D$ timesteps).\n",
    "\n",
    "To determine the optimal number of delays, we choose the number of delays for which the KS entropy stops decresaing.\n",
    "\n",
    "$T/R \\times D$\n",
    "\n",
    "#### 4. (Optional) Delay embedding\n",
    "\n",
    "To increase the Markovianity of our state, we may stack delayed copies of measurements within a short time window.\n",
    "\n",
    "$T/R - K + 1 \\times KD$\n",
    "\n",
    "\n",
    "#### 5. Second dimensionality reduction\n",
    "\n",
    "From the delay-embedded space, we can project down to a more manageable $M$ dimensions.\n",
    "\n",
    "$T/R - K + 1 \\times M$\n",
    "\n",
    "\n",
    "#### Transfer Matrix\n",
    "\n",
    "From any time-series $t \\times d$, we can readily compute a transfer matrix.\n",
    "\n",
    "First, we cluster the time series into $C$ clusters (using, e.g. K-means clustering). This turns our time series into a $t$ dimensional vector, where each entry is the index of that timestep's assigned cluster.\n",
    "\n",
    "Then, we create a transfer matrix from this series, for a given choice of the transition time scale, $\\tau$. \n",
    "We create a $C\\times C$ dimensional matrix whose $ij$-th component is the likelihood of moving from cluster $i$ to cluster $j$ in $\\tau$ timesteps. \n",
    "\n",
    "Note: the downsampling rate and transfer matrix transition time scale have roughly the same function. It is, however, computationally easier to downsample as much as possible first.\n",
    "\n",
    "\n",
    "# Parameters"
   ]
  },
  {
   "cell_type": "code",
   "execution_count": 2,
   "metadata": {},
   "outputs": [],
   "source": [
    "# ------------------------\n",
    "# NETWORK PARAMETERS\n",
    "# ------------------------\n",
    "\n",
    "# To ensure we compare similar networks:\n",
    "NETWORK_SEED = 123\n",
    "\n",
    "# Main parameters:\n",
    "COUPLING_STRENGTH = 1.8 # Chosen to be just above the chaotic transition (allowing for finite-size effects)\n",
    "N_NEURONS = 100 # Chosen to be low enough to be easy to work with, yet high enough for a clean Lyapunov spectrum\n",
    "\n",
    "# The following parameters influence temporal resolution and trajectory duration\n",
    "TIMESTEP = 0.01 # Short enough that the lyapunov spectrum is still clean\n",
    "N_STEPS = 50000\n",
    "N_BURNIN_STEPS = 500\n",
    "\n",
    "# ------------------------\n",
    "# COARSE-GRAINING IN SPACE\n",
    "# ------------------------\n",
    "\n",
    "# We can either set the explicit choice of pca dimension or determine it from the lyapunov spectrum\n",
    "PCA_DIMENSION = 20 # \"lyapunov\" #  int | \"lyapunov\"\n",
    "\n",
    "# Explicitly coarse-graining the phase space by clustering (should be << # of downsampled timesteps)\n",
    "N_CLUSTERS = 100 # This is balanced against the transition timescale. If one is higher, the other can be lower.\n",
    "\n",
    "# -----------------------\n",
    "# COARSE-GRAINING IN TIME \n",
    "# ------------------------\n",
    "\n",
    "# Increasing downsampling and state_duration have about the same effect: \n",
    "# it increases the length of the time-scales we are interested in\n",
    "DOWNSAMPLE_RATE = 500\n",
    "TRANSITION_TIMESCALE = 1\n",
    "\n",
    "# -----------------------\n",
    "# STATE-SPACE RECONSTRUCTION\n",
    "# ------------------------\n",
    " \n",
    "# N delays tells me how many times to stack states into my definition of state.\n",
    "N_DELAYS = 0\n",
    "\n",
    "# Embedding dimension is the downprojected space after doing a delay embedding\n",
    "EMBEDDING_DIM = 3\n",
    "\n",
    "# -----------------------\n",
    "# PLOTTING PARAMETERS\n",
    "# ------------------------\n",
    "\n",
    "EIGENVALUE_RANGE = [1, 10]"
   ]
  },
  {
   "cell_type": "markdown",
   "metadata": {},
   "source": [
    "## Understanding finite size effects\n",
    "\n",
    "For finite-size networks, the transition to chaos is spread. Instead of the network becoming spontaneously chaotic as you increase the coupling strength through the transition, it goes through a number of stages:\n",
    "1. First, the trivial zero-activity fixed point splits into non-zero fixed points.\n",
    "2. Next, the non-zero fixed points becoming oscillatory cycles.\n",
    "3. Finally, the cycles becoming chaotic. Exactly how is not yet clear.\n",
    "\n",
    "### Maximum Lyapunov exponent scaling with coupling strength\n",
    "The first way to parse this transition is to look at the value of the maximum lyapunov exponent as you increase the coupling strength (for a fixed network size)."
   ]
  },
  {
   "cell_type": "code",
   "execution_count": 3,
   "metadata": {},
   "outputs": [],
   "source": [
    "COUPLING_STRENGTHS = [0.5, 0.8, 0.9, 1.0, 1.1, 1.2, 1.5, 2.0, 3.0]"
   ]
  },
  {
   "cell_type": "code",
   "execution_count": 4,
   "metadata": {},
   "outputs": [
    {
     "name": "stderr",
     "output_type": "stream",
     "text": [
      "INFO:root:Deriving maximum lyapunov exponent for `g = 0.5`\n",
      "INFO:root:Loading from save ./saves/trajectories/trajectory-2a9cb48cbb1f9df15cad22dc1380614a.npy\n",
      "INFO:root:Loading from save ./saves/lyapunov/spectrum-9eafd7adf47603911a05443f5feb9a9d.npy\n",
      "INFO:root:Deriving maximum lyapunov exponent for `g = 0.8`\n",
      "Burning in: 100%|██████████| 500/500 [00:00<00:00, 4889.02it/s]\n",
      "Generating samples: 100%|██████████| 50000/50000 [00:13<00:00, 3828.04it/s]\n",
      "INFO:root:Saving to ./saves/trajectories/trajectory-48e1f4c3a0e30b6814c92a5812442505.npy\n",
      "INFO:root:Loading from save ./saves/lyapunov/spectrum-842918f34f4434ec76c3a64c37ffb3d3.npy\n",
      "INFO:root:Deriving maximum lyapunov exponent for `g = 0.9`\n",
      "Burning in: 100%|██████████| 500/500 [00:00<00:00, 3396.33it/s]\n",
      "Generating samples: 100%|██████████| 50000/50000 [00:15<00:00, 3326.57it/s]\n",
      "INFO:root:Saving to ./saves/trajectories/trajectory-e746387c6dc3488600dc97cd029fd498.npy\n",
      "INFO:root:Loading from save ./saves/lyapunov/spectrum-9cfb531984079e8954c9db24ca3fdc4e.npy\n",
      "INFO:root:Deriving maximum lyapunov exponent for `g = 1.0`\n",
      "Burning in: 100%|██████████| 500/500 [00:00<00:00, 2940.99it/s]\n",
      "Generating samples: 100%|██████████| 50000/50000 [00:14<00:00, 3483.01it/s]\n",
      "INFO:root:Saving to ./saves/trajectories/trajectory-5b761528f8161da67d3fdafc6e7dc072.npy\n",
      "INFO:root:Loading from save ./saves/lyapunov/spectrum-46fd923fe100954b6c85962a407cfabd.npy\n",
      "INFO:root:Deriving maximum lyapunov exponent for `g = 1.1`\n",
      "Burning in: 100%|██████████| 500/500 [00:00<00:00, 4142.20it/s]\n",
      "Generating samples: 100%|██████████| 50000/50000 [00:15<00:00, 3321.60it/s]\n",
      "INFO:root:Saving to ./saves/trajectories/trajectory-8becffd4c2024030ab5bf3ce199cb95a.npy\n",
      "INFO:root:Loading from save ./saves/lyapunov/spectrum-6fce1879ede4a90cd8e15337225ab634.npy\n",
      "INFO:root:Deriving maximum lyapunov exponent for `g = 1.2`\n",
      "Burning in: 100%|██████████| 500/500 [00:00<00:00, 2973.83it/s]\n",
      "Generating samples: 100%|██████████| 50000/50000 [00:15<00:00, 3289.76it/s]\n",
      "INFO:root:Saving to ./saves/trajectories/trajectory-de76a254f8fc949b0709ab8d911ef676.npy\n",
      "INFO:root:Loading from save ./saves/lyapunov/spectrum-4f2a02bea991b237f77ba6ebba38f445.npy\n",
      "INFO:root:Deriving maximum lyapunov exponent for `g = 1.5`\n",
      "Burning in: 100%|██████████| 500/500 [00:00<00:00, 3760.41it/s]\n",
      "Generating samples: 100%|██████████| 50000/50000 [00:15<00:00, 3310.20it/s]\n",
      "INFO:root:Saving to ./saves/trajectories/trajectory-2b16a888c34750af6f47e3f1223d8948.npy\n",
      "INFO:root:Loading from save ./saves/lyapunov/spectrum-f5b50677153c09bda82aa5f345a89018.npy\n",
      "INFO:root:Deriving maximum lyapunov exponent for `g = 2.0`\n",
      "INFO:root:Loading from save ./saves/trajectories/trajectory-bc956549355fdc5703f021f76439058e.npy\n",
      "INFO:root:Loading from save ./saves/lyapunov/spectrum-61f433d160c9a397ecac0f47c9891e6f.npy\n",
      "INFO:root:Deriving maximum lyapunov exponent for `g = 3.0`\n",
      "Burning in: 100%|██████████| 500/500 [00:00<00:00, 2785.64it/s]\n",
      "Generating samples: 100%|██████████| 50000/50000 [00:16<00:00, 3079.26it/s]\n",
      "INFO:root:Saving to ./saves/trajectories/trajectory-5311b9590977239051bbd7fa1930f633.npy\n",
      "INFO:root:Loading from save ./saves/lyapunov/spectrum-03e078dd2d79acf4b4e2557b58f408d1.npy\n"
     ]
    },
    {
     "data": {
      "image/png": "[encoded data removed]",
      "text/plain": [
       "<Figure size 432x288 with 1 Axes>"
      ]
     },
     "metadata": {
      "needs_background": "light"
     },
     "output_type": "display_data"
    }
   ],
   "source": [
    "plot_max_l_with_g(gs=COUPLING_STRENGTHS, n_dofs = N_NEURONS, timestep=TIMESTEP, n_steps=N_STEPS, n_burn_in=N_BURNIN_STEPS, network_seed=NETWORK_SEED)"
   ]
  },
  {
   "cell_type": "markdown",
   "metadata": {},
   "source": [
    "### Dynamic phase diagram\n",
    "\n",
    "Though the above makes it clear where chaos really begins (up from where it would be in the infinite-network limit), it does not tell us anything about the intermediate phases (i.e. non-zero fixed points and limit cycles).\n",
    "    \n",
    "#### Fixed point at zero. \n",
    "\n",
    "The first additional sign we can get is by considering what fraction of the neurons settle to the fixed point, where we consider a neuron to be at the trivial fixed point if all the points in a given neuron's history (after a suitable burn-in) are within a desired tolerance of zero."
   ]
  },
  {
   "cell_type": "code",
   "execution_count": 5,
   "metadata": {},
   "outputs": [
    {
     "name": "stderr",
     "output_type": "stream",
     "text": [
      "INFO:root:Deriving fraction at 0 for `g = 0.5`\n",
      "INFO:root:Loading from save ./saves/trajectories/trajectory-2a9cb48cbb1f9df15cad22dc1380614a.npy\n",
      "INFO:root:Deriving fraction at 0 for `g = 0.8`\n",
      "INFO:root:Loading from save ./saves/trajectories/trajectory-48e1f4c3a0e30b6814c92a5812442505.npy\n",
      "INFO:root:Deriving fraction at 0 for `g = 0.9`\n",
      "INFO:root:Loading from save ./saves/trajectories/trajectory-e746387c6dc3488600dc97cd029fd498.npy\n",
      "INFO:root:Deriving fraction at 0 for `g = 1.0`\n",
      "INFO:root:Loading from save ./saves/trajectories/trajectory-5b761528f8161da67d3fdafc6e7dc072.npy\n",
      "INFO:root:Deriving fraction at 0 for `g = 1.1`\n",
      "INFO:root:Loading from save ./saves/trajectories/trajectory-8becffd4c2024030ab5bf3ce199cb95a.npy\n",
      "INFO:root:Deriving fraction at 0 for `g = 1.2`\n",
      "INFO:root:Loading from save ./saves/trajectories/trajectory-de76a254f8fc949b0709ab8d911ef676.npy\n",
      "INFO:root:Deriving fraction at 0 for `g = 1.5`\n",
      "INFO:root:Loading from save ./saves/trajectories/trajectory-2b16a888c34750af6f47e3f1223d8948.npy\n",
      "INFO:root:Deriving fraction at 0 for `g = 2.0`\n",
      "INFO:root:Loading from save ./saves/trajectories/trajectory-bc956549355fdc5703f021f76439058e.npy\n",
      "INFO:root:Deriving fraction at 0 for `g = 3.0`\n",
      "INFO:root:Loading from save ./saves/trajectories/trajectory-5311b9590977239051bbd7fa1930f633.npy\n"
     ]
    },
    {
     "data": {
      "image/png": "[encoded data removed]",
      "text/plain": [
       "<Figure size 432x288 with 1 Axes>"
      ]
     },
     "metadata": {
      "needs_background": "light"
     },
     "output_type": "display_data"
    }
   ],
   "source": [
    "ATOL = 1e-3\n",
    "\n",
    "plot_trivial_fixed_pt_with_g(gs=COUPLING_STRENGTHS, n_dofs = N_NEURONS, timestep=TIMESTEP, n_steps=N_STEPS, n_burn_in=N_BURNIN_STEPS, atol=ATOL)"
   ]
  },
  {
   "cell_type": "code",
   "execution_count": 6,
   "metadata": {},
   "outputs": [
    {
     "name": "stderr",
     "output_type": "stream",
     "text": [
      "Burning in: 100%|██████████| 1000/1000 [00:00<00:00, 3665.51it/s]\n",
      "Generating samples: 100%|██████████| 10000/10000 [00:02<00:00, 3686.36it/s]\n",
      "INFO:root:Saving to ./saves/trajectories/trajectory-fb9c901f4b7b835bb5a06e5428800b0b.npy\n"
     ]
    },
    {
     "data": {
      "image/png": "[encoded data removed]",
      "text/plain": [
       "<Figure size 432x288 with 1 Axes>"
      ]
     },
     "metadata": {
      "needs_background": "light"
     },
     "output_type": "display_data"
    },
    {
     "name": "stderr",
     "output_type": "stream",
     "text": [
      "Burning in: 100%|██████████| 1000/1000 [00:00<00:00, 3125.46it/s]\n",
      "Generating samples: 100%|██████████| 10000/10000 [00:02<00:00, 3519.28it/s]\n",
      "INFO:root:Saving to ./saves/trajectories/trajectory-6a78af7daaf97e12cd745a4d8ca98f83.npy\n"
     ]
    },
    {
     "data": {
      "image/png": "[encoded data removed]",
      "text/plain": [
       "<Figure size 432x288 with 1 Axes>"
      ]
     },
     "metadata": {
      "needs_background": "light"
     },
     "output_type": "display_data"
    }
   ],
   "source": [
    "plot_samples(0.5)\n",
    "plt.show()\n",
    "plot_samples(3.0)\n",
    "plt.show()"
   ]
  },
  {
   "cell_type": "markdown",
   "metadata": {},
   "source": [
    "#### Non-trivial fixed points\n",
    "\n",
    "The next thing we can do is to study the fraction of neurons that settle to a non-zero fixed point, by the same criterion of \"settling\" as used for the trivial point."
   ]
  },
  {
   "cell_type": "code",
   "execution_count": 7,
   "metadata": {},
   "outputs": [
    {
     "name": "stderr",
     "output_type": "stream",
     "text": [
      "INFO:root:Deriving fraction at non-0 fixed points for `g = 0.5`\n",
      "INFO:root:Loading from save ./saves/trajectories/trajectory-2a9cb48cbb1f9df15cad22dc1380614a.npy\n",
      "INFO:root:Deriving fraction at non-0 fixed points for `g = 0.8`\n",
      "INFO:root:Loading from save ./saves/trajectories/trajectory-48e1f4c3a0e30b6814c92a5812442505.npy\n",
      "INFO:root:Deriving fraction at non-0 fixed points for `g = 0.9`\n",
      "INFO:root:Loading from save ./saves/trajectories/trajectory-e746387c6dc3488600dc97cd029fd498.npy\n",
      "INFO:root:Deriving fraction at non-0 fixed points for `g = 1.0`\n",
      "INFO:root:Loading from save ./saves/trajectories/trajectory-5b761528f8161da67d3fdafc6e7dc072.npy\n",
      "INFO:root:Deriving fraction at non-0 fixed points for `g = 1.1`\n",
      "INFO:root:Loading from save ./saves/trajectories/trajectory-8becffd4c2024030ab5bf3ce199cb95a.npy\n",
      "INFO:root:Deriving fraction at non-0 fixed points for `g = 1.2`\n",
      "INFO:root:Loading from save ./saves/trajectories/trajectory-de76a254f8fc949b0709ab8d911ef676.npy\n",
      "INFO:root:Deriving fraction at non-0 fixed points for `g = 1.5`\n",
      "INFO:root:Loading from save ./saves/trajectories/trajectory-2b16a888c34750af6f47e3f1223d8948.npy\n",
      "INFO:root:Deriving fraction at non-0 fixed points for `g = 2.0`\n",
      "INFO:root:Loading from save ./saves/trajectories/trajectory-bc956549355fdc5703f021f76439058e.npy\n",
      "INFO:root:Deriving fraction at non-0 fixed points for `g = 3.0`\n",
      "INFO:root:Loading from save ./saves/trajectories/trajectory-5311b9590977239051bbd7fa1930f633.npy\n"
     ]
    },
    {
     "data": {
      "image/png": "[encoded data removed]",
      "text/plain": [
       "<Figure size 432x288 with 1 Axes>"
      ]
     },
     "metadata": {
      "needs_background": "light"
     },
     "output_type": "display_data"
    }
   ],
   "source": [
    "plot_nontrivial_fixed_pt_with_g(gs=COUPLING_STRENGTHS, n_dofs = N_NEURONS, timestep=TIMESTEP, n_steps=N_STEPS, n_burn_in=N_BURNIN_STEPS, atol=ATOL)"
   ]
  },
  {
   "cell_type": "code",
   "execution_count": 8,
   "metadata": {},
   "outputs": [
    {
     "name": "stderr",
     "output_type": "stream",
     "text": [
      "Burning in: 100%|██████████| 1000/1000 [00:00<00:00, 2566.21it/s]\n",
      "Generating samples: 100%|██████████| 10000/10000 [00:02<00:00, 3668.46it/s]\n",
      "INFO:root:Saving to ./saves/trajectories/trajectory-6399f92e97f45e726a20ac3b0e401a8e.npy\n"
     ]
    },
    {
     "data": {
      "image/png": "[encoded data removed]",
      "text/plain": [
       "<Figure size 432x288 with 1 Axes>"
      ]
     },
     "metadata": {
      "needs_background": "light"
     },
     "output_type": "display_data"
    }
   ],
   "source": [
    "plot_samples(1.2)"
   ]
  },
  {
   "cell_type": "markdown",
   "metadata": {},
   "source": [
    "### Cycles\n",
    "\n",
    "It starts to get harder when you go looking for cycles. An obvious first-order approach to uncovering cycles is to look for places where the autocorrelation goes through $1$. If such points exist, then the activity is cyclical with the corresponding timescale as its period."
   ]
  },
  {
   "cell_type": "code",
   "execution_count": 9,
   "metadata": {},
   "outputs": [
    {
     "name": "stderr",
     "output_type": "stream",
     "text": [
      "INFO:root:Counting cycles for `g = 1.5`\n",
      "INFO:root:Loading from save ./saves/trajectories/trajectory-2b16a888c34750af6f47e3f1223d8948.npy\n",
      "Counting cycles...: 100%|██████████| 100/100 [00:31<00:00,  3.21it/s]\n",
      "INFO:root:Counting cycles for `g = 1.6`\n",
      "Burning in: 100%|██████████| 500/500 [00:00<00:00, 2896.72it/s]\n",
      "Generating samples:   0%|          | 0/50000 [00:00<?, ?it/s]"
     ]
    },
    {
     "name": "stdout",
     "output_type": "stream",
     "text": [
      "8.0\n"
     ]
    },
    {
     "name": "stderr",
     "output_type": "stream",
     "text": [
      "Generating samples: 100%|██████████| 50000/50000 [00:17<00:00, 2940.94it/s]\n",
      "INFO:root:Saving to ./saves/trajectories/trajectory-614046e942c81eb13c60bb0f408d4a81.npy\n",
      "Counting cycles...: 100%|██████████| 100/100 [00:30<00:00,  3.24it/s]\n",
      "INFO:root:Counting cycles for `g = 1.65`\n",
      "Burning in: 100%|██████████| 500/500 [00:00<00:00, 2662.42it/s]\n",
      "Generating samples:   0%|          | 0/50000 [00:00<?, ?it/s]"
     ]
    },
    {
     "name": "stdout",
     "output_type": "stream",
     "text": [
      "2.0\n"
     ]
    },
    {
     "name": "stderr",
     "output_type": "stream",
     "text": [
      "Generating samples: 100%|██████████| 50000/50000 [00:15<00:00, 3315.76it/s]\n",
      "INFO:root:Saving to ./saves/trajectories/trajectory-aa3de351a30db94c2d70c08c8cddb61a.npy\n",
      "Counting cycles...: 100%|██████████| 100/100 [00:26<00:00,  3.80it/s]\n",
      "INFO:root:Counting cycles for `g = 1.7`\n",
      "Burning in: 100%|██████████| 500/500 [00:00<00:00, 3715.25it/s]\n",
      "Generating samples:   0%|          | 0/50000 [00:00<?, ?it/s]"
     ]
    },
    {
     "name": "stdout",
     "output_type": "stream",
     "text": [
      "0.0\n"
     ]
    },
    {
     "name": "stderr",
     "output_type": "stream",
     "text": [
      "Generating samples: 100%|██████████| 50000/50000 [00:14<00:00, 3462.73it/s]\n",
      "INFO:root:Saving to ./saves/trajectories/trajectory-ea3b8cffc46cffa2f8240798ba21edcf.npy\n",
      "Counting cycles...: 100%|██████████| 100/100 [00:28<00:00,  3.52it/s]\n",
      "INFO:root:Counting cycles for `g = 1.75`\n",
      "Burning in: 100%|██████████| 500/500 [00:00<00:00, 3461.12it/s]\n",
      "Generating samples:   0%|          | 0/50000 [00:00<?, ?it/s]"
     ]
    },
    {
     "name": "stdout",
     "output_type": "stream",
     "text": [
      "0.0\n"
     ]
    },
    {
     "name": "stderr",
     "output_type": "stream",
     "text": [
      "Generating samples: 100%|██████████| 50000/50000 [00:15<00:00, 3242.29it/s]\n",
      "INFO:root:Saving to ./saves/trajectories/trajectory-3429eae74802cfe97fcbad63e0c25488.npy\n",
      "Counting cycles...: 100%|██████████| 100/100 [00:27<00:00,  3.61it/s]\n",
      "INFO:root:Counting cycles for `g = 1.8`\n",
      "Burning in: 100%|██████████| 500/500 [00:00<00:00, 2685.95it/s]\n",
      "Generating samples:   0%|          | 0/50000 [00:00<?, ?it/s]"
     ]
    },
    {
     "name": "stdout",
     "output_type": "stream",
     "text": [
      "96.0\n"
     ]
    },
    {
     "name": "stderr",
     "output_type": "stream",
     "text": [
      "Generating samples: 100%|██████████| 50000/50000 [00:13<00:00, 3657.47it/s]\n",
      "INFO:root:Saving to ./saves/trajectories/trajectory-86417c533f8bafcdde59e842c96d2f80.npy\n",
      "Counting cycles...:   1%|          | 1/100 [00:00<00:45,  2.20it/s]\n"
     ]
    },
    {
     "ename": "KeyboardInterrupt",
     "evalue": "",
     "output_type": "error",
     "traceback": [
      "\u001b[0;31m---------------------------------------------------------------------------\u001b[0m",
      "\u001b[0;31mKeyboardInterrupt\u001b[0m                         Traceback (most recent call last)",
      "\u001b[0;32m<ipython-input-9-f801b4c0987d>\u001b[0m in \u001b[0;36m<module>\u001b[0;34m\u001b[0m\n\u001b[1;32m      3\u001b[0m \u001b[0mATOL\u001b[0m \u001b[0;34m=\u001b[0m \u001b[0;36m0.1\u001b[0m\u001b[0;34m\u001b[0m\u001b[0;34m\u001b[0m\u001b[0m\n\u001b[1;32m      4\u001b[0m \u001b[0;34m\u001b[0m\u001b[0m\n\u001b[0;32m----> 5\u001b[0;31m \u001b[0mplot_cycles_with_g\u001b[0m\u001b[0;34m(\u001b[0m\u001b[0mgs\u001b[0m\u001b[0;34m=\u001b[0m\u001b[0mCYCLES_COUPLING_STRENGTHS\u001b[0m\u001b[0;34m,\u001b[0m \u001b[0mn_dofs\u001b[0m \u001b[0;34m=\u001b[0m \u001b[0mN_NEURONS\u001b[0m\u001b[0;34m,\u001b[0m \u001b[0mtimestep\u001b[0m\u001b[0;34m=\u001b[0m\u001b[0mTIMESTEP\u001b[0m\u001b[0;34m,\u001b[0m \u001b[0mn_steps\u001b[0m\u001b[0;34m=\u001b[0m\u001b[0mN_STEPS\u001b[0m\u001b[0;34m,\u001b[0m \u001b[0mn_burn_in\u001b[0m\u001b[0;34m=\u001b[0m\u001b[0mN_BURNIN_STEPS\u001b[0m\u001b[0;34m,\u001b[0m \u001b[0matol\u001b[0m\u001b[0;34m=\u001b[0m\u001b[0mATOL\u001b[0m\u001b[0;34m,\u001b[0m \u001b[0mmax_n_steps\u001b[0m\u001b[0;34m=\u001b[0m\u001b[0mMAX_N_STEPS\u001b[0m\u001b[0;34m)\u001b[0m\u001b[0;34m\u001b[0m\u001b[0;34m\u001b[0m\u001b[0m\n\u001b[0m",
      "\u001b[0;32m~/Projects/masters-thesis/code/randnn/randnn/plotting.py\u001b[0m in \u001b[0;36mplot_cycles_with_g\u001b[0;34m(gs, n_dofs, timestep, n_steps, n_burn_in, t_ons, atol, max_n_steps)\u001b[0m\n\u001b[1;32m    303\u001b[0m     \u001b[0;34m:\u001b[0m\u001b[0mparam\u001b[0m \u001b[0mt_ons\u001b[0m\u001b[0;34m:\u001b[0m \u001b[0mAkin\u001b[0m \u001b[0mto\u001b[0m \u001b[0ma\u001b[0m \u001b[0mdownsampling\u001b[0m \u001b[0mtime\u001b[0m \u001b[0mwhen\u001b[0m \u001b[0mcomputing\u001b[0m \u001b[0mthe\u001b[0m \u001b[0mfull\u001b[0m\u001b[0;34m\u001b[0m\u001b[0;34m\u001b[0m\u001b[0m\n\u001b[1;32m    304\u001b[0m         \u001b[0mLyapunov\u001b[0m \u001b[0mspectrum\u001b[0m\u001b[0;34m.\u001b[0m\u001b[0;34m\u001b[0m\u001b[0;34m\u001b[0m\u001b[0m\n\u001b[0;32m--> 305\u001b[0;31m     \u001b[0;34m:\u001b[0m\u001b[0mparam\u001b[0m \u001b[0matol\u001b[0m\u001b[0;34m:\u001b[0m \u001b[0mThis\u001b[0m \u001b[0;32mis\u001b[0m \u001b[0mthe\u001b[0m \u001b[0mabsolute\u001b[0m \u001b[0mnumerical\u001b[0m \u001b[0mtolerance\u001b[0m \u001b[0mthat\u001b[0m\u001b[0;34m\u001b[0m\u001b[0;34m\u001b[0m\u001b[0m\n\u001b[0m\u001b[1;32m    306\u001b[0m         \u001b[0mdetermines\u001b[0m \u001b[0mwhether\u001b[0m \u001b[0ma\u001b[0m \u001b[0msubtrajectory\u001b[0m \u001b[0mhas\u001b[0m \u001b[0mreached\u001b[0m \u001b[0;36m0.\u001b[0m\u001b[0;34m\u001b[0m\u001b[0;34m\u001b[0m\u001b[0m\n\u001b[1;32m    307\u001b[0m     \u001b[0;34m:\u001b[0m\u001b[0mparam\u001b[0m \u001b[0mnetwork_seed\u001b[0m\u001b[0;34m:\u001b[0m \u001b[0mThe\u001b[0m \u001b[0mrandom\u001b[0m \u001b[0mseed\u001b[0m \u001b[0mto\u001b[0m \u001b[0muse\u001b[0m \u001b[0mwhen\u001b[0m \u001b[0mdrawing\u001b[0m \u001b[0mcoupling\u001b[0m\u001b[0;34m\u001b[0m\u001b[0;34m\u001b[0m\u001b[0m\n",
      "\u001b[0;32m~/Projects/masters-thesis/code/randnn/randnn/utils.py\u001b[0m in \u001b[0;36mcount_cycles\u001b[0;34m(trajectory, atol, max_n_steps, verbose)\u001b[0m\n\u001b[1;32m    179\u001b[0m         \u001b[0;31m# 3. Figure out whether these peaks are within our tolerance of 1.\u001b[0m\u001b[0;34m\u001b[0m\u001b[0;34m\u001b[0m\u001b[0;34m\u001b[0m\u001b[0m\n\u001b[1;32m    180\u001b[0m         \u001b[0;31m#    We subtract one because the first entry will always have perfect autocorrelation.\u001b[0m\u001b[0;34m\u001b[0m\u001b[0;34m\u001b[0m\u001b[0;34m\u001b[0m\u001b[0m\n\u001b[0;32m--> 181\u001b[0;31m         \u001b[0mclose_peaks\u001b[0m \u001b[0;34m=\u001b[0m \u001b[0mnp\u001b[0m\u001b[0;34m.\u001b[0m\u001b[0mwhere\u001b[0m\u001b[0;34m(\u001b[0m\u001b[0macor_peaks\u001b[0m \u001b[0;34m>\u001b[0m \u001b[0;36m1.\u001b[0m \u001b[0;34m-\u001b[0m\u001b[0matol\u001b[0m\u001b[0;34m,\u001b[0m \u001b[0;36m1.\u001b[0m\u001b[0;34m,\u001b[0m \u001b[0;36m0.\u001b[0m\u001b[0;34m)\u001b[0m\u001b[0;34m\u001b[0m\u001b[0;34m\u001b[0m\u001b[0m\n\u001b[0m\u001b[1;32m    182\u001b[0m         \u001b[0mis_cycle\u001b[0m \u001b[0;34m=\u001b[0m \u001b[0mnp\u001b[0m\u001b[0;34m.\u001b[0m\u001b[0msum\u001b[0m\u001b[0;34m(\u001b[0m\u001b[0mclose_peaks\u001b[0m\u001b[0;34m)\u001b[0m \u001b[0;34m-\u001b[0m \u001b[0;36m1.\u001b[0m \u001b[0;34m>\u001b[0m \u001b[0;36m0\u001b[0m\u001b[0;34m\u001b[0m\u001b[0;34m\u001b[0m\u001b[0m\n\u001b[1;32m    183\u001b[0m \u001b[0;34m\u001b[0m\u001b[0m\n",
      "\u001b[0;31mKeyboardInterrupt\u001b[0m: "
     ]
    }
   ],
   "source": [
    "CYCLES_COUPLING_STRENGTHS = [1.5, 1.6, 1.65, 1.7, 1.75, 1.8, 1.9, 2.0]\n",
    "MAX_N_STEPS = 50000\n",
    "ATOL = 0.1\n",
    "\n",
    "plot_cycles_with_g(gs=CYCLES_COUPLING_STRENGTHS, n_dofs = N_NEURONS, timestep=TIMESTEP, n_steps=N_STEPS, n_burn_in=N_BURNIN_STEPS, atol=ATOL, max_n_steps=MAX_N_STEPS)"
   ]
  },
  {
   "cell_type": "code",
   "execution_count": null,
   "metadata": {},
   "outputs": [],
   "source": [
    "plot_samples(1.5)\n",
    "plt.show()\n",
    "plot_samples(1.8)\n",
    "plt.show()\n",
    "plot_samples(1.9)\n",
    "plt.show()"
   ]
  },
  {
   "cell_type": "markdown",
   "metadata": {},
   "source": [
    "### Autocorrelation timescale\n",
    "\n",
    "In addition to looking at the number of cycling neurons, we can look at the periods of oscillation, averaged over all cyclical neurons.\n",
    "\n",
    "I have not yet implemented this, but it might show an interesting trend (and reveal whether chaos unfolds through something like a period doubling catastrophe)."
   ]
  },
  {
   "cell_type": "code",
   "execution_count": null,
   "metadata": {},
   "outputs": [],
   "source": [
    "# TODO: plot_autocorrelation_time_with_g()"
   ]
  },
  {
   "cell_type": "markdown",
   "metadata": {},
   "source": [
    "## Participation Ratio\n",
    "\n",
    "Given a covariance matrix, $C_{ij}=\\langle (h_i-\\langle h_i\\rangle)(h_j-\\langle h_j\\rangle)\\rangle$, the participation ratio provides an (PCA) estimate of the dimensionality:\n",
    "$$\n",
    "D_\\text{PCA}= \\frac{(\\sum_{n=1}^N \\mu_n)^2}{\\sum_{n=1}^N \\mu_n^2},\n",
    "$$\n",
    "where $\\mu_n$ is the $n$-th eigenvalue of the covariance matrix.\n",
    "\n"
   ]
  },
  {
   "cell_type": "code",
   "execution_count": null,
   "metadata": {},
   "outputs": [],
   "source": [
    "plot_participation_ratio_with_g(gs=COUPLING_STRENGTHS, n_dofs = N_NEURONS, timestep=TIMESTEP, n_steps=N_STEPS, n_burn_in=N_BURNIN_STEPS)"
   ]
  },
  {
   "cell_type": "markdown",
   "metadata": {},
   "source": [
    "---"
   ]
  },
  {
   "cell_type": "code",
   "execution_count": null,
   "metadata": {},
   "outputs": [],
   "source": [
    "def plot_randnn_spectrum(coupling_strength=COUPLING_STRENGTH):\n",
    "    @downsample(DOWNSAMPLE_RATE)\n",
    "    def get_pca_reduced_trajectory(dimension=PCA_DIMENSION, coupling_strength=coupling_strength, n_dofs=N_NEURONS, n_steps=N_STEPS, n_burn_in=N_BURNIN_STEPS, t_ons=100):\n",
    "        cont_nn = ContinuousNN(coupling_strength=coupling_strength, n_dofs=n_dofs, max_step=TIMESTEP)\n",
    "        trajectory = cont_nn.run(n_steps=n_steps, n_burn_in=n_burn_in)\n",
    "        lyapunov_spectrum = cont_nn.get_lyapunov_spectrum(trajectory, t_ons=t_ons)\n",
    "\n",
    "        if dimension == \"lyapunov\":\n",
    "            dimension = int(np.ceil(get_attractor_dimension(lyapunov_spectrum)))\n",
    "\n",
    "        pca = PCA(dimension)\n",
    "        return pca.fit_transform(trajectory)\n",
    "\n",
    "    trajectory = get_pca_reduced_trajectory()\n",
    "    transfer_operator = TransferOperator(labeling_method=\"kmeans\", n_delays=N_DELAYS, embedding_dim=EMBEDDING_DIM)\n",
    "\n",
    "    def get_trans_matrix(time_series=None, n_clusters=N_CLUSTERS, n_future_timesteps=TRANSITION_TIMESCALE):\n",
    "        return transfer_operator.get_trans_matrix(time_series=time_series, n_clusters=n_clusters, n_future_timesteps=n_future_timesteps)\n",
    "\n",
    "    trans_matrix = get_trans_matrix(time_series=trajectory)\n",
    "    spectrum, _ = eigsort(trans_matrix.T, 100, which='LR')\n",
    "\n",
    "    plot_eig_spectrum(spectrum, EIGENVALUE_RANGE, \"Eigenvalue spectrum of the transfer matrix.\", label=\"Coupling strength, $g = {}$\".format(coupling_strength))\n",
    "    \n",
    "plot_randnn_spectrum()\n"
   ]
  },
  {
   "cell_type": "code",
   "execution_count": null,
   "metadata": {},
   "outputs": [],
   "source": [
    "def plot_randnn_spectra(gs=[.9, 1., 1.1, 1.5, 2., 3, 5]):\n",
    "    plt.title(\"Eigenvalue spectra for different $g$\")\n",
    "    for g in gs:\n",
    "        plot_randnn_spectrum(g)\n",
    "\n",
    "    plt.legend()\n",
    "    plt.show()\n",
    "    \n",
    "plot_randnn_spectra()"
   ]
  },
  {
   "cell_type": "code",
   "execution_count": null,
   "metadata": {},
   "outputs": [],
   "source": [
    "\n",
    "def plot_t_imp_scaling(time_series, eigval_idx, n_clusters_list=[50, 100, 200, 500, 1000], transition_timescales=range(1, 20, 2), timestep=1):\n",
    "    plt.title(\"Scaling of $t$ with $\\\\tau$ and $n_p$\")\n",
    "    for n_clusters in n_clusters_list:\n",
    "        t_imps = np.zeros(len(transition_timescales))\n",
    "        for i, tau in tqdm(enumerate(transition_timescales), desc=\"computing t_imp\"):\n",
    "            t_imps[i] = transfer_operator.get_t_imp(time_series, [eigval_idx], n_clusters, tau, timestep)[0]\n",
    "            \n",
    "        plt.plot(transition_timescales, t_imps, label=\"$n_p = {}$\".format(n_clusters))\n",
    "\n",
    "    plt.legend()\n",
    "    plt.show()\n",
    "    \n",
    "plot_t_imp_scaling(trajectory[:100000:10], 1)\n",
    "    "
   ]
  },
  {
   "cell_type": "markdown",
   "metadata": {},
   "source": [
    "![Scaling](./photos/randnn-t-imp-scaling.png)"
   ]
  },
  {
   "cell_type": "code",
   "execution_count": null,
   "metadata": {},
   "outputs": [],
   "source": [
    "def plot_t_imps(time_series, eigval_idxs=range(1,3), n_clusters=N_CLUSTERS, transition_timescales=range(1, 10, 2), timestep=1):\n",
    "    plt.title(\"Scaling of $t$ with $\\\\tau$ and $n_p$\")\n",
    "    t_imps = np.zeros((len(transition_timescales), len(eigval_idxs)))\n",
    "\n",
    "    for i, tau in tqdm(enumerate(transition_timescales), desc=\"computing t_imp\"):\n",
    "        t_imps[i, :] = transfer_operator.get_t_imp(time_series, eigval_idxs, n_clusters, tau, timestep)\n",
    "    \n",
    "    for i in eigval_idxs:\n",
    "        plt.plot(transition_timescales, t_imps[:, i])\n",
    "\n",
    "    plt.show()\n",
    "    \n",
    "plot_t_imps(trajectory)"
   ]
  },
  {
   "cell_type": "code",
   "execution_count": null,
   "metadata": {},
   "outputs": [],
   "source": [
    "def plot_trajectory_samples(trajectory: np.ndarray,\n",
    "                            indices: Union[int, np.ndarray] = 5,\n",
    "                            title: str = \"Sample trajectories\"):\n",
    "    \"\"\"\n",
    "    :param trajectory: of shape (n_timesteps, n_dofs)\n",
    "    :param indices: if int, plots the trajectories of the first `indices` many neurons on top of eachother.\n",
    "        if np.ndarray, plots the trajectories of the neurons corresponding to the indices in the array.\n",
    "    \"\"\"\n",
    "\n",
    "    try:\n",
    "        # indices is np.ndarray\n",
    "        for i in range(indices.size):\n",
    "            plt.plot(trajectory[:, indices[i]], color=\"tab:blue\")\n",
    "    except AttributeError:\n",
    "        # indices is int\n",
    "        for i in range(indices):\n",
    "            plt.plot(trajectory[:, i], color=\"tab:blue\")\n",
    "\n",
    "    plt.title(title)\n",
    "    plt.xlabel(\"Time ($\\tau$)\")\n",
    "    plt.ylabel(\"Activity\")\n",
    "\n",
    "def plot_samples(\n",
    "    coupling_strength: float,\n",
    "    number: int = 5,\n",
    "    n_dofs: int = 100,\n",
    "    timestep: float = 0.1,\n",
    "    n_steps: int = 10000,\n",
    "    n_burn_in: int = 1000,\n",
    "    t_ons: int = 10,\n",
    "):\n",
    "    cont_nn = ContinuousNN(coupling_strength=coupling_strength,\n",
    "                           n_dofs=n_dofs,\n",
    "                           max_step=timestep)\n",
    "    trajectory = cont_nn.run(n_steps=n_steps, n_burn_in=n_burn_in)\n",
    "\n",
    "    plot_trajectory_samples(\n",
    "        trajectory,\n",
    "        number,\n",
    "        title=\"Sample trajectories at $g={}$\".format(coupling_strength))\n",
    "\n"
   ]
  },
  {
   "cell_type": "code",
   "execution_count": null,
   "metadata": {},
   "outputs": [],
   "source": []
  }
 ],
 "metadata": {
  "kernelspec": {
   "display_name": "Python 3",
   "language": "python",
   "name": "python3"
  },
  "language_info": {
   "codemirror_mode": {
    "name": "ipython",
    "version": 3
   },
   "file_extension": ".py",
   "mimetype": "text/x-python",
   "name": "python",
   "nbconvert_exporter": "python",
   "pygments_lexer": "ipython3",
   "version": "3.8.6"
  }
 },
 "nbformat": 4,
 "nbformat_minor": 2
}
